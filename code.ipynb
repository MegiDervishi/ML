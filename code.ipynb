{
 "cells": [
  {
   "cell_type": "markdown",
   "metadata": {},
   "source": [
    "# Homework solution "
   ]
  },
  {
   "cell_type": "markdown",
   "metadata": {},
   "source": [
    "### Student: Megi Dervishi"
   ]
  },
  {
   "cell_type": "code",
   "execution_count": 13,
   "metadata": {},
   "outputs": [
    {
     "data": {
      "text/html": [
       "<link href='http://fonts.googleapis.com/css?family=Fenix' rel='stylesheet' type='text/css'>\n",
       "<link href='http://fonts.googleapis.com/css?family=Alegreya+Sans:100,300,400,500,700,800,900,100italic,300italic,400italic,500italic,700italic,800italic,900italic' rel='stylesheet' type='text/css'>\n",
       "<link href='http://fonts.googleapis.com/css?family=Source+Code+Pro:300,400' rel='stylesheet' type='text/css'>\n",
       "<link href=\"https://fonts.googleapis.com/css?family=Oswald|Raleway\" rel=\"stylesheet\" type='text/css'> \n",
       "<style>\n",
       ".prompt{\n",
       "    display: none !important;\n",
       "}\n",
       "\n",
       ".rendered_html pre {\n",
       "    border: 1px solid #f0f6f9 !important;\n",
       "}\n",
       "\n",
       ".rendered_html pre, .rendered_html code {\n",
       "    background-color: #d3d8db !important;\n",
       "    padding: 1% !important;\n",
       "    line-height: 200% !important;\n",
       "    border-radius: 10px !important;\n",
       "}\n",
       "\n",
       "div.input_area {\n",
       "    border-radius: 10px !important;\n",
       "    background-color: #e1e1e6 !important;\n",
       "}\n",
       "\n",
       "div.cell{\n",
       "        width:85% !important;\n",
       "        margin-left:5% !important;\n",
       "        /*margin-right:auto;*/\n",
       "    }\n",
       "    h1, h2, h3, h4, h5 {\n",
       "        font-family: 'Oswald', sans-serif; !important;\n",
       "        font-style: oblique !important;\n",
       "    }\n",
       "    div.text_cell_render{\n",
       "        font-family: 'Raleway', sans-serif; !important;\n",
       "        line-height: 135% !important;\n",
       "        font-size: 120% !important;\n",
       "        width:100%;/*600px;*/\n",
       "        /*margin-left:auto;*/\n",
       "        /*margin-right:auto;*/\n",
       "    }\n",
       "    .CodeMirror{\n",
       "            font-family: \"Source Code Pro\" !important;\n",
       "\t\t\tfont-size: 100% !important;\n",
       "    }\n",
       "    .text_cell_render p{\n",
       "        text-align: justify !important;\n",
       "    }\n",
       "    .text_cell_render h1 {\n",
       "        font-weight: 200 !important;\n",
       "\t\tline-height: 100% !important;\n",
       "        color:#47597A !important;\n",
       "        margin-bottom: 10.em !important;\n",
       "        margin-top: 50.em !important;\n",
       "        padding-bottom: 50.em !important;\n",
       "        padding-top: 50.em !important;\n",
       "        display: block !important;\n",
       "        font-size: 300% !important;\n",
       "        text-align: center !important;\n",
       "        border-bottom: 1px solid #47597A !important;\n",
       "        border-top: 1px solid #47597A !important;\n",
       "    }\n",
       "    .text_cell_render h2 {\n",
       "        font-weight: 200 !important;\n",
       "\tline-height: 100% !important;\n",
       "        color:#47597A !important;\n",
       "        margin-bottom: 0.5em !important;\n",
       "        margin-top: 0.5em !important;\n",
       "        display: block !important;\n",
       "        font-size: 200% !important;\n",
       "        border-bottom: 1px solid #47597A !important;\n",
       "    }\n",
       "    .text_cell_render h3 {\n",
       "        font-weight: 200 !important;\n",
       "\tline-height: 100% !important;\n",
       "        color:#47597A !important;\n",
       "        margin-bottom: 0.5em !important;\n",
       "        margin-top: 0.5em !important;\n",
       "        display: block !important;\n",
       "        font-size: 150% !important;\n",
       "    }\n",
       "    .text_cell_render h4 {\n",
       "        font-style: italic !important;\n",
       "        font-weight: bold !important;\n",
       "\tline-height: 100% !important;\n",
       "        color:#47597A !important;\n",
       "        display: block !important;\n",
       "        font-size: 100% !important;\n",
       "    }\n",
       "    .text_cell_render h5 {\n",
       "        font-weight: 200 !important;\n",
       "\tline-height: 100% !important;\n",
       "        color:#47597A !important;\n",
       "        margin-bottom: 0.5em !important;\n",
       "        margin-top: 0.5em !important;\n",
       "        display: block !important;\n",
       "        font-size: 100% !important;\n",
       "    }\n",
       "    .text_cell_render ul {\n",
       "\tlist-style-type: disc !important;\n",
       "\tline-height: 2;\n",
       "\t/*color:#47597A !important;*/\n",
       "    }\n",
       "    .warning{\n",
       "        color: rgb( 240, 20, 20 ) !important;\n",
       "        }\n",
       "    .Abstract {  \n",
       "\ttext-align: justify;\n",
       "\tbackground-color: #d6edf9;\n",
       "\tborder-left: 5px solid #47597A;\n",
       "\tpadding: 0.5em;\n",
       "\tmargin: 0  150px 0 150px;\n",
       "    }\n",
       "    .Def {    \n",
       "\tbackground-color: #d9f7d7;\n",
       "\tborder-left: 5px solid #4a7047;\n",
       "\tpadding: 0.5em;\n",
       "    }\n",
       "    .Def:before {\n",
       "\tcontent: \"Definition.\";\n",
       "\tcolor:#4a7047;\n",
       "\tfont-weight: bold;\n",
       "\tfont-style: normal;\n",
       "    }\n",
       "    .DoIt {    \n",
       "\tbackground-color: #A9F5BC;\n",
       "\tborder-left: 5px solid #0A2A12;\n",
       "\tpadding: 0.5em;\n",
       "    }\n",
       "    .DoIt:before {\n",
       "\tcontent: \"Suggestion.\";\n",
       "\tcolor:#0A2A12;\n",
       "\tfont-weight: bold;\n",
       "\tfont-style: normal;\n",
       "    }\n",
       "    .Answers {    \n",
       "\tbackground-color: rgb(172, 223, 236);\n",
       "\tborder-left: 5px solid rgb(16, 175, 207);\n",
       "\tpadding: 0.5em;\n",
       "    }\n",
       "    .Answers:before {\n",
       "\tcontent: \"Answers.\";\n",
       "\tcolor:#801919;\n",
       "\tfont-weight: bold;\n",
       "\tfont-style: normal;\n",
       "    }\n",
       "    .Prop {    \n",
       "\tbackground-color:#f9ecd1;\n",
       "\tborder-left: 5px solid #ba7021;\n",
       "\tpadding: 0.5em;\n",
       "    }\n",
       "   .Prop:before {\n",
       "       content: \"Further questions.\";\n",
       "       color:#ba7021;\n",
       "       font-weight: bold;\n",
       "       font-style: normal;\n",
       "    }\n",
       "   .Thm {    \n",
       "\tbackground-color:#f9ecd1;\n",
       "\tborder-left: 5px solid #ba7021;\n",
       "\tpadding: 0.5em;\n",
       "    }\n",
       "   .Thm:before {\n",
       "       content: \"Theorem.\";\n",
       "       color:#ba7021;\n",
       "       font-weight: bold;\n",
       "       font-style: normal;\n",
       "    } \n",
       "   .Algo {    \n",
       "\tbackground-color:#f9ecd1;\n",
       "\tborder-left: 5px solid #ba7021;\n",
       "\tpadding: 0.5em;\n",
       "    }\n",
       "   .Algo:before {\n",
       "       content: \"Algorithm.\";\n",
       "       color:#ba7021;\n",
       "       font-weight: bold;\n",
       "       font-style: normal;\n",
       "    }\n",
       "    .Rmk {    \n",
       "\tbackground-color: #dbfcdd;\n",
       "\tborder-left: 5px solid #38873f;\n",
       "\tpadding: 0.5em;\n",
       "    }\n",
       "    .Rmk:before {\n",
       "\tcontent: \"Remark.\";\n",
       "\tcolor:#407035;\n",
       "\tfont-weight: bold;\n",
       "\tfont-style: normal;\n",
       "    }\n",
       "    .Ex {    \n",
       "\tbackground-color: #dbf1fc;\n",
       "\tborder-left: 5px solid #385487;\n",
       "\tpadding: 0.5em;\n",
       "    }\n",
       "    .Ex:before {\n",
       "\tcontent: \"Example.\";\n",
       "\tcolor:#385487;\n",
       "\tfont-weight: bold;\n",
       "\tfont-style: normal;\n",
       "    }\n",
       "\n",
       "/*    .toc-item-num {\n",
       "#        display: none;\n",
       "#    }\n",
       "*/\n",
       "    .reveal section img{\n",
       "        margin: 0px auto;\n",
       "    }\n",
       "\n",
       "    div.output_area img{\n",
       "        display: block;\n",
       "        margin: 0px auto;\n",
       "    }\n",
       "  \n",
       "</style>\n",
       "\n",
       "<script>\n",
       "MathJax.Hub.Config({\n",
       "TeX: {extensions: [\"AMSmath.js\"] },\n",
       "                tex2jax: {\n",
       "                    inlineMath: [ ['$','$'], [\"\\\\(\",\"\\\\)\"] ],\n",
       "                    displayMath: [ ['$$','$$'], [\"\\\\[\",\"\\\\]\"] ]\n",
       "                },\n",
       "                displayAlign: 'center', // Change this to 'center' to center equations.\n",
       "                \"HTML-CSS\": {\n",
       "                    styles: {'.MathJax_Display': {\"margin\": 4}}\n",
       "                }\n",
       "        });\n",
       "\n",
       "\n",
       "\n",
       "</script>"
      ],
      "text/plain": [
       "<IPython.core.display.HTML object>"
      ]
     },
     "execution_count": 13,
     "metadata": {},
     "output_type": "execute_result"
    }
   ],
   "source": [
    "# execute this part to modify the css style\n",
    "from IPython.core.display import HTML\n",
    "def css_styling():\n",
    "    styles = open(\"./style.css\").read()\n",
    "    return HTML(styles)\n",
    "css_styling()"
   ]
  },
  {
   "cell_type": "code",
   "execution_count": 14,
   "metadata": {},
   "outputs": [],
   "source": [
    "import os\n",
    "import numpy as np\n",
    "import matplotlib.pyplot as plt\n",
    "import pandas as pd\n",
    "import cv2\n",
    "from imutils import paths\n",
    "import random\n",
    "import time\n",
    "import scipy.io as sio\n",
    "import sklearn\n",
    "import sklearn.linear_model\n",
    "import sklearn.pipeline\n",
    "import sklearn.preprocessing\n",
    "from sklearn.decomposition import PCA\n",
    "from sklearn.model_selection import train_test_split\n",
    "from sklearn.metrics import classification_report, confusion_matrix"
   ]
  },
  {
   "cell_type": "markdown",
   "metadata": {},
   "source": [
    "### Load the dataset"
   ]
  },
  {
   "cell_type": "code",
   "execution_count": 40,
   "metadata": {},
   "outputs": [],
   "source": [
    "def load_data():\n",
    "    #load from train -> from folder A have label 1 else have label 0\n",
    "    # load from test -> same thing\n",
    "    # shuffle\n",
    "    print(\"Loading images...\")\n",
    "    df_train = pd.DataFrame()\n",
    "    train_data, train_labels = [], []\n",
    "    test_data, test_labels = [], []\n",
    "    imgpath = sorted(list(paths.list_images(\"./data\")))\n",
    "    random.seed(time.time())\n",
    "    random.shuffle(imgpath)\n",
    "    \n",
    "    for ipath in imgpath:\n",
    "        #print(ipath)\n",
    "        image = cv2.imread(ipath,0)\n",
    "        image = image.astype('float32') / 255\n",
    "        tmp1, tmp2 = ipath.split(os.path.sep)[-3] , ipath.split(os.path.sep)[-2]\n",
    "        #perhaps normalize the set X\n",
    "        if tmp1 == \"train\": \n",
    "            train_data.append(image.flatten())\n",
    "            if tmp2 == \"A\" and tmp1 == \"train\": \n",
    "                train_labels.append(1)\n",
    "            else:\n",
    "                train_labels.append(-1)\n",
    "        else: \n",
    "            test_data.append(image.flatten())\n",
    "            if tmp2 == \"A\": \n",
    "                test_labels.append(1)\n",
    "            else: \n",
    "                test_labels.append(-1)\n",
    "        #print(test_data)\n",
    "        #input()\n",
    "                \n",
    "    train_data, test_data = np.array(train_data), np.array(test_data)\n",
    "    train_labels, test_labels = np.array(train_labels), np.array(test_labels)\n",
    "    #df_train['Labels'] = [list(_) for _ in keras.utils.to_categorical(train_labels, 2)]\n",
    "    print(\"Loading dataset done.\")\n",
    "    return train_data, test_data, train_labels, test_labels"
   ]
  },
  {
   "cell_type": "code",
   "execution_count": 41,
   "metadata": {},
   "outputs": [
    {
     "name": "stdout",
     "output_type": "stream",
     "text": [
      "Loading images...\n",
      "Loading dataset done.\n"
     ]
    }
   ],
   "source": [
    "train_data, test_data, train_labels, test_labels = load_data()"
   ]
  },
  {
   "cell_type": "markdown",
   "metadata": {},
   "source": [
    "### Define the Dataset"
   ]
  },
  {
   "cell_type": "markdown",
   "metadata": {},
   "source": [
    "The images are $28$ by $28$ pixels that range from 0 to 255 but I have normalized them to range from 0 to 1. Hence we have that $\\mathcal{X} \\in [0,1]^{784}$ and $\\mathcal{Y} \\in \\{1,-1\\}$"
   ]
  },
  {
   "cell_type": "code",
   "execution_count": 49,
   "metadata": {},
   "outputs": [
    {
     "name": "stdout",
     "output_type": "stream",
     "text": [
      "Total training images:  (6000, 784)\n",
      "Total testing images:  (750, 784)\n",
      "Number of 'A' from the training data: 2000 images\n",
      "Number of 'A' from the test data: 250 images \n",
      "Shape of the images:  (784,)\n",
      "Number of features for training_data or testing_data:  (784,)\n"
     ]
    }
   ],
   "source": [
    "print(\"Total training images: \", train_data.shape)\n",
    "print(\"Total testing images: \", test_data.shape)\n",
    "print(\"Number of 'A' from the training data: {} images\".format(list(train_labels).count(1)))\n",
    "print(\"Number of 'A' from the test data: {} images \".format(list(test_labels).count(1)))\n",
    "print(\"Shape of the images: \", train_data[0].shape)\n",
    "print(\"Number of features for training_data or testing_data: \", test_data[0].flatten().shape)"
   ]
  },
  {
   "cell_type": "code",
   "execution_count": 52,
   "metadata": {},
   "outputs": [
    {
     "data": {
      "image/png": "[encoded data removed]",
      "text/plain": [
       "<matplotlib.figure.Figure at 0x1a1cf7f208>"
      ]
     },
     "metadata": {},
     "output_type": "display_data"
    }
   ],
   "source": [
    "#examples from the dataset\n",
    "plt.figure(figsize=(15,10))\n",
    "for index, (image, label) in enumerate(zip(train_data[0:5], train_labels[0:5])):\n",
    " plt.subplot(1, 5, index + 1)\n",
    " plt.imshow(image.reshape(28,28), cmap='binary')\n",
    " plt.title('Label %i\\n' % label, fontsize = 20)"
   ]
  },
  {
   "cell_type": "markdown",
   "metadata": {},
   "source": [
    "### Gradient Descent and Stochastic Gradient Descent"
   ]
  },
  {
   "cell_type": "markdown",
   "metadata": {},
   "source": [
    "<div markdown=1 class=\"Def\"> \n",
    "Let $\\theta$ be the estimator and $X_i$ the image $i$ of the dataset $X$ and $Y_i$ the label corresponding to it. \n",
    "- Least square loss\n",
    "\\begin{align*}\\ell_2(\\theta) = \\frac{1}{n}\\sum_{i=1}^n (\\theta^TX_i - Y_i)^2 \\quad \\quad \\quad\n",
    "\\nabla_{\\theta} \\ell_2 &= \\frac{2}{n}\\sum_{i=1}^n X_i(\\theta^TX_i - Y_i)\\\\\n",
    "&= \\frac{2}{n}\\sum_{i=1}^n X_i\\theta^TX_i - X_iY_i\n",
    "\\end{align*}\n",
    "\n",
    "- Logistic square loss\n",
    "\\begin{align*} \\ell_3(\\theta) = \\frac{1}{n}\\sum_{i=1}^n \\log(1 + e^{−Y_i\\theta^T X_i}) \\quad \\quad\n",
    "\\nabla_{\\theta} \\ell_3 &= \\frac{1}{n}\\sum_{i=1}^n -X_i Y_i \\frac{e^{-Y_i\\theta^TX_i}}{1+e^{−Y_i\\theta^T X_i}}\n",
    "\\end{align*}"
   ]
  },
  {
   "cell_type": "code",
   "execution_count": 267,
   "metadata": {},
   "outputs": [],
   "source": [
    "def loss(ID,x,y,theta):\n",
    "    if ID: \n",
    "        #square loss = 1\n",
    "        return 1/len(y) * np.sum((np.dot(x,theta) - y)**2)\n",
    "    else:\n",
    "        #logistic loss = 0\n",
    "        s = -np.dot(x, theta) * y\n",
    "        return (1/len(y))*np.sum(np.log(1 + np.exp(s)))\n",
    "\n",
    "def grad(ID, x,y,theta):\n",
    "    if ID:\n",
    "        # grad square loss = 1\n",
    "        return 2/len(y) * np.dot(x.T, (np.dot(x, theta) - y))\n",
    "    else :\n",
    "        # grad logistic loss = 0\n",
    "        s = -np.dot(x, theta) * y\n",
    "        frac = np.exp(s)/(1+ np.exp(s))\n",
    "        return -1/len(y) * np.dot(x.T, y * frac)\n",
    "                \n",
    "def error(data,theta, labels):\n",
    "    E = np.dot(data, theta)\n",
    "    acc = 0\n",
    "    for x,y in zip(E, labels):\n",
    "        if x > 0 and y == 1: acc += 1 \n",
    "        elif x < 0 and y== -1: acc += 1\n",
    "    #find the img that are hard to find\n",
    "    return acc/len(labels), 1 - acc/len(labels)"
   ]
  },
  {
   "cell_type": "code",
   "execution_count": 330,
   "metadata": {},
   "outputs": [],
   "source": [
    "def gradient_descent(train_x, train_y, test_x, test_y, itheta, loss_ID, eta, max_iteration):\n",
    "    train_errors , test_errors = [], []\n",
    "    theta = itheta\n",
    "    theta_avg = itheta # Exercise 3.c\n",
    "    for _ in range(max_iteration):\n",
    "        train_errors.append(loss(loss_ID,train_x, train_y, theta))\n",
    "        test_errors.append(loss(loss_ID, test_x, test_y, theta))\n",
    "        grd = grad(loss_ID, train_x, train_y, theta)\n",
    "        theta = theta - eta*grd\n",
    "        theta_avg += theta\n",
    "    return theta, theta_avg/max_iteration, train_errors, test_errors\n",
    "\n",
    "def stochastic_gradient_descent(train_x, train_y, test_x, test_y, itheta, loss_ID, eta, max_iteration):\n",
    "    train_errors , test_errors = [], []\n",
    "    theta = itheta\n",
    "    theta_avg = itheta # Exercise 3.c\n",
    "    for _ in range(max_iteration):\n",
    "        i = np.random.randint(0, len(train_y), size=1)\n",
    "        train_errors.append(loss(loss_ID,train_x, train_y, theta))\n",
    "        test_errors.append(loss(loss_ID, test_x, test_y, theta))\n",
    "        grd = grad(loss_ID, train_x[i], train_y[i], theta)\n",
    "        theta = theta - eta*grd\n",
    "        theta_avg += theta\n",
    "    return theta, theta_avg/max_iteration, train_errors, test_errors\n",
    "        "
   ]
  },
  {
   "cell_type": "code",
   "execution_count": 327,
   "metadata": {},
   "outputs": [],
   "source": [
    "itheta = np.ones(784)*1e-4\n",
    "\n",
    "#GD square loss\n",
    "stheta, stheta_avg, strain_errors, stest_errors = gradient_descent(train_data, train_labels, test_data, test_labels, \n",
    "                                                               itheta, 1, eta = 0.001, max_iteration = 500)\n",
    "#SGD square loss\n"
   ]
  },
  {
   "cell_type": "code",
   "execution_count": 320,
   "metadata": {},
   "outputs": [],
   "source": [
    "itheta = np.ones(784)*1e-4\n",
    "\n",
    "# GD logistic loss\n",
    "ltheta, ltheta_avg, ltrain_errors, ltest_errors = gradient_descent(train_data, train_labels, test_data, test_labels, \n",
    "                                                               itheta, 0, eta = 0.01, max_iteration = 500)\n",
    "\n",
    "# SGD\n",
    "#st, st_avg, strain_e, stest_e = stochastic_gradient_descent(train_data, train_labels, test_data, test_labels, \n",
    "#                                                               itheta, 1, eta = 0.0001, max_iteration = 60)\n"
   ]
  },
  {
   "cell_type": "code",
   "execution_count": 334,
   "metadata": {},
   "outputs": [],
   "source": [
    "itheta = np.ones(784)*1e-4\n",
    "lt, lt_avg, ltrain_e, ltest_e = stochastic_gradient_descent(train_data, train_labels, test_data, test_labels, \n",
    "                                                               itheta, 0, eta = 0.001, max_iteration = 6000)"
   ]
  },
  {
   "cell_type": "code",
   "execution_count": null,
   "metadata": {},
   "outputs": [],
   "source": [
    "itheta = np.ones(784)*1e-4\n",
    "st, st_avg, strain_e, stest_e = stochastic_gradient_descent(train_data, train_labels, test_data, test_labels, \n",
    "                                                               itheta, 1, eta = 0.001, max_iteration = 6000)"
   ]
  },
  {
   "cell_type": "code",
   "execution_count": 337,
   "metadata": {},
   "outputs": [
    {
     "data": {
      "image/png": "[encoded data removed]",
      "text/plain": [
       "<matplotlib.figure.Figure at 0x1a1ff95f98>"
      ]
     },
     "metadata": {},
     "output_type": "display_data"
    },
    {
     "data": {
      "image/png": "[encoded data removed]",
      "text/plain": [
       "<matplotlib.figure.Figure at 0x1a1fe8ce48>"
      ]
     },
     "metadata": {},
     "output_type": "display_data"
    },
    {
     "name": "stdout",
     "output_type": "stream",
     "text": [
      "logistic = (0.9493333333333334, 0.05066666666666664)\n",
      "square =  (0.952, 0.04800000000000004)\n",
      "stochastic logistic =  (0.936, 0.06399999999999995)\n"
     ]
    },
    {
     "data": {
      "image/png": "[encoded data removed]",
      "text/plain": [
       "<matplotlib.figure.Figure at 0x1a22611940>"
      ]
     },
     "metadata": {},
     "output_type": "display_data"
    }
   ],
   "source": [
    "n =6000\n",
    "\n",
    "plt.semilogx(n*np.arange(len(ltrain_errors)), ltrain_errors)\n",
    "plt.semilogx(n*np.arange(len(ltrain_errors)), ltest_errors)\n",
    "plt.show()\n",
    "\n",
    "plt.semilogx(n*np.arange(len(strain_errors)), strain_errors)\n",
    "plt.semilogx(n*np.arange(len(strain_errors)), stest_errors)\n",
    "plt.show()\n",
    "\n",
    "plt.semilogx(np.arange(len(ltrain_e)), ltrain_e)\n",
    "plt.semilogx(np.arange(len(ltrain_e)), ltest_e)\n",
    "\n",
    "print(\"logistic =\", error(test_data, ltheta, test_labels))\n",
    "print(\"square = \", error(test_data, stheta, test_labels))\n",
    "print(\"stochastic logistic = \", error(test_data, lt, test_labels))\n"
   ]
  },
  {
   "cell_type": "code",
   "execution_count": null,
   "metadata": {},
   "outputs": [],
   "source": []
  },
  {
   "cell_type": "code",
   "execution_count": null,
   "metadata": {},
   "outputs": [],
   "source": []
  }
 ],
 "metadata": {
  "kernelspec": {
   "display_name": "Python 3",
   "language": "python",
   "name": "python3"
  },
  "language_info": {
   "codemirror_mode": {
    "name": "ipython",
    "version": 3
   },
   "file_extension": ".py",
   "mimetype": "text/x-python",
   "name": "python",
   "nbconvert_exporter": "python",
   "pygments_lexer": "ipython3",
   "version": "3.6.4"
  }
 },
 "nbformat": 4,
 "nbformat_minor": 2
}
