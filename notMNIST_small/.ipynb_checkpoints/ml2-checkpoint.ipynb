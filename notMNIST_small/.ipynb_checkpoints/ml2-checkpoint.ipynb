{
 "cells": [
  {
   "cell_type": "markdown",
   "metadata": {},
   "source": [
    "# Homework solution"
   ]
  },
  {
   "cell_type": "markdown",
   "metadata": {},
   "source": [
    "### Student: Megi Dervishi"
   ]
  },
  {
   "cell_type": "code",
   "execution_count": 8,
   "metadata": {},
   "outputs": [
    {
     "data": {
      "text/html": [
       "<link href='http://fonts.googleapis.com/css?family=Fenix' rel='stylesheet' type='text/css'>\n",
       "<link href='http://fonts.googleapis.com/css?family=Alegreya+Sans:100,300,400,500,700,800,900,100italic,300italic,400italic,500italic,700italic,800italic,900italic' rel='stylesheet' type='text/css'>\n",
       "<link href='http://fonts.googleapis.com/css?family=Source+Code+Pro:300,400' rel='stylesheet' type='text/css'>\n",
       "<link href=\"https://fonts.googleapis.com/css?family=Oswald|Raleway\" rel=\"stylesheet\" type='text/css'> \n",
       "<style>\n",
       ".prompt{\n",
       "    display: none !important;\n",
       "}\n",
       "\n",
       ".rendered_html pre {\n",
       "    border: 1px solid #f0f6f9 !important;\n",
       "}\n",
       "\n",
       ".rendered_html pre, .rendered_html code {\n",
       "    background-color: #d3d8db !important;\n",
       "    padding: 1% !important;\n",
       "    line-height: 200% !important;\n",
       "    border-radius: 10px !important;\n",
       "}\n",
       "\n",
       "div.input_area {\n",
       "    border-radius: 10px !important;\n",
       "    background-color: #e1e1e6 !important;\n",
       "}\n",
       "\n",
       "div.cell{\n",
       "        width:85% !important;\n",
       "        margin-left:5% !important;\n",
       "        /*margin-right:auto;*/\n",
       "    }\n",
       "    h1, h2, h3, h4, h5 {\n",
       "        font-family: 'Oswald', sans-serif; !important;\n",
       "        font-style: oblique !important;\n",
       "    }\n",
       "    div.text_cell_render{\n",
       "        font-family: 'Raleway', sans-serif; !important;\n",
       "        line-height: 135% !important;\n",
       "        font-size: 120% !important;\n",
       "        width:100%;/*600px;*/\n",
       "        /*margin-left:auto;*/\n",
       "        /*margin-right:auto;*/\n",
       "    }\n",
       "    .CodeMirror{\n",
       "            font-family: \"Source Code Pro\" !important;\n",
       "\t\t\tfont-size: 100% !important;\n",
       "    }\n",
       "    .text_cell_render p{\n",
       "        text-align: justify !important;\n",
       "    }\n",
       "    .text_cell_render h1 {\n",
       "        font-weight: 200 !important;\n",
       "\t\tline-height: 100% !important;\n",
       "        color:#47597A !important;\n",
       "        margin-bottom: 10.em !important;\n",
       "        margin-top: 50.em !important;\n",
       "        padding-bottom: 50.em !important;\n",
       "        padding-top: 50.em !important;\n",
       "        display: block !important;\n",
       "        font-size: 300% !important;\n",
       "        text-align: center !important;\n",
       "        border-bottom: 1px solid #47597A !important;\n",
       "        border-top: 1px solid #47597A !important;\n",
       "    }\n",
       "    .text_cell_render h2 {\n",
       "        font-weight: 200 !important;\n",
       "\tline-height: 100% !important;\n",
       "        color:#47597A !important;\n",
       "        margin-bottom: 0.5em !important;\n",
       "        margin-top: 0.5em !important;\n",
       "        display: block !important;\n",
       "        font-size: 200% !important;\n",
       "        border-bottom: 1px solid #47597A !important;\n",
       "    }\n",
       "    .text_cell_render h3 {\n",
       "        font-weight: 200 !important;\n",
       "\tline-height: 100% !important;\n",
       "        color:#47597A !important;\n",
       "        margin-bottom: 0.5em !important;\n",
       "        margin-top: 0.5em !important;\n",
       "        display: block !important;\n",
       "        font-size: 150% !important;\n",
       "    }\n",
       "    .text_cell_render h4 {\n",
       "        font-style: italic !important;\n",
       "        font-weight: bold !important;\n",
       "\tline-height: 100% !important;\n",
       "        color:#47597A !important;\n",
       "        display: block !important;\n",
       "        font-size: 100% !important;\n",
       "    }\n",
       "    .text_cell_render h5 {\n",
       "        font-weight: 200 !important;\n",
       "\tline-height: 100% !important;\n",
       "        color:#47597A !important;\n",
       "        margin-bottom: 0.5em !important;\n",
       "        margin-top: 0.5em !important;\n",
       "        display: block !important;\n",
       "        font-size: 100% !important;\n",
       "    }\n",
       "    .text_cell_render ul {\n",
       "\tlist-style-type: disc !important;\n",
       "\tline-height: 2;\n",
       "\t/*color:#47597A !important;*/\n",
       "    }\n",
       "    .warning{\n",
       "        color: rgb( 240, 20, 20 ) !important;\n",
       "        }\n",
       "    .Abstract {  \n",
       "\ttext-align: justify;\n",
       "\tbackground-color: #d6edf9;\n",
       "\tborder-left: 5px solid #47597A;\n",
       "\tpadding: 0.5em;\n",
       "\tmargin: 0  150px 0 150px;\n",
       "    }\n",
       "    .Def {    \n",
       "\tbackground-color: #d9f7d7;\n",
       "\tborder-left: 5px solid #4a7047;\n",
       "\tpadding: 0.5em;\n",
       "    }\n",
       "    .Def:before {\n",
       "\tcontent: \"Definition.\";\n",
       "\tcolor:#4a7047;\n",
       "\tfont-weight: bold;\n",
       "\tfont-style: normal;\n",
       "    }\n",
       "    .DoIt {    \n",
       "\tbackground-color: #A9F5BC;\n",
       "\tborder-left: 5px solid #0A2A12;\n",
       "\tpadding: 0.5em;\n",
       "    }\n",
       "    .DoIt:before {\n",
       "\tcontent: \"Suggestion.\";\n",
       "\tcolor:#0A2A12;\n",
       "\tfont-weight: bold;\n",
       "\tfont-style: normal;\n",
       "    }\n",
       "    .Answers {    \n",
       "\tbackground-color: rgb(172, 223, 236);\n",
       "\tborder-left: 5px solid rgb(16, 175, 207);\n",
       "\tpadding: 0.5em;\n",
       "    }\n",
       "    .Answers:before {\n",
       "\tcontent: \"Answers.\";\n",
       "\tcolor:#801919;\n",
       "\tfont-weight: bold;\n",
       "\tfont-style: normal;\n",
       "    }\n",
       "    .Prop {    \n",
       "\tbackground-color:#f9ecd1;\n",
       "\tborder-left: 5px solid #ba7021;\n",
       "\tpadding: 0.5em;\n",
       "    }\n",
       "   .Prop:before {\n",
       "       content: \"Further questions.\";\n",
       "       color:#ba7021;\n",
       "       font-weight: bold;\n",
       "       font-style: normal;\n",
       "    }\n",
       "   .Thm {    \n",
       "\tbackground-color:#f9ecd1;\n",
       "\tborder-left: 5px solid #ba7021;\n",
       "\tpadding: 0.5em;\n",
       "    }\n",
       "   .Thm:before {\n",
       "       content: \"Theorem.\";\n",
       "       color:#ba7021;\n",
       "       font-weight: bold;\n",
       "       font-style: normal;\n",
       "    } \n",
       "   .Algo {    \n",
       "\tbackground-color:#f9ecd1;\n",
       "\tborder-left: 5px solid #ba7021;\n",
       "\tpadding: 0.5em;\n",
       "    }\n",
       "   .Algo:before {\n",
       "       content: \"Algorithm.\";\n",
       "       color:#ba7021;\n",
       "       font-weight: bold;\n",
       "       font-style: normal;\n",
       "    }\n",
       "    .Rmk {    \n",
       "\tbackground-color: #dbfcdd;\n",
       "\tborder-left: 5px solid #38873f;\n",
       "\tpadding: 0.5em;\n",
       "    }\n",
       "    .Rmk:before {\n",
       "\tcontent: \"Remark.\";\n",
       "\tcolor:#407035;\n",
       "\tfont-weight: bold;\n",
       "\tfont-style: normal;\n",
       "    }\n",
       "    .Ex {    \n",
       "\tbackground-color: #dbf1fc;\n",
       "\tborder-left: 5px solid #385487;\n",
       "\tpadding: 0.5em;\n",
       "    }\n",
       "    .Ex:before {\n",
       "\tcontent: \"Example.\";\n",
       "\tcolor:#385487;\n",
       "\tfont-weight: bold;\n",
       "\tfont-style: normal;\n",
       "    }\n",
       "\n",
       "/*    .toc-item-num {\n",
       "#        display: none;\n",
       "#    }\n",
       "*/\n",
       "    .reveal section img{\n",
       "        margin: 0px auto;\n",
       "    }\n",
       "\n",
       "    div.output_area img{\n",
       "        display: block;\n",
       "        margin: 0px auto;\n",
       "    }\n",
       "  \n",
       "</style>\n",
       "\n",
       "<script>\n",
       "MathJax.Hub.Config({\n",
       "TeX: {extensions: [\"AMSmath.js\"] },\n",
       "                tex2jax: {\n",
       "                    inlineMath: [ ['$','$'], [\"\\\\(\",\"\\\\)\"] ],\n",
       "                    displayMath: [ ['$$','$$'], [\"\\\\[\",\"\\\\]\"] ]\n",
       "                },\n",
       "                displayAlign: 'center', // Change this to 'center' to center equations.\n",
       "                \"HTML-CSS\": {\n",
       "                    styles: {'.MathJax_Display': {\"margin\": 4}}\n",
       "                }\n",
       "        });\n",
       "\n",
       "\n",
       "\n",
       "</script>"
      ],
      "text/plain": [
       "<IPython.core.display.HTML object>"
      ]
     },
     "execution_count": 8,
     "metadata": {},
     "output_type": "execute_result"
    }
   ],
   "source": [
    "# execute this part to modify the css style\n",
    "from IPython.core.display import HTML\n",
    "def css_styling():\n",
    "    styles = open(\"./style.css\").read()\n",
    "    return HTML(styles)\n",
    "css_styling()"
   ]
  },
  {
   "cell_type": "code",
   "execution_count": 82,
   "metadata": {},
   "outputs": [],
   "source": [
    "import os\n",
    "import numpy as np\n",
    "import matplotlib.pyplot as plt\n",
    "import pandas as pd\n",
    "import cv2\n",
    "from imutils import paths\n",
    "import random\n",
    "import time\n",
    "import scipy.io as sio\n",
    "import sklearn\n",
    "import sklearn.linear_model\n",
    "import sklearn.pipeline\n",
    "import sklearn.preprocessing\n",
    "from sklearn.decomposition import PCA\n",
    "from sklearn.model_selection import train_test_split\n",
    "from sklearn.metrics import classification_report, confusion_matrix\n",
    "from sklearn.discriminant_analysis import LinearDiscriminantAnalysis\n",
    "from scipy.optimize import curve_fit\n",
    "import seaborn as sns"
   ]
  },
  {
   "cell_type": "code",
   "execution_count": 83,
   "metadata": {},
   "outputs": [],
   "source": [
    "def load_data():\n",
    "    #load from train -> from folder A have label 1 else have label 0\n",
    "    # load from test -> same thing\n",
    "    # shuffle\n",
    "    print(\"Loading images...\")\n",
    "    df_train = pd.DataFrame()\n",
    "    train_data, train_labels = [], []\n",
    "    test_data, test_labels = [], []\n",
    "    imgpath = sorted(list(paths.list_images(\"./data2\")))\n",
    "    random.seed(time.time())\n",
    "    random.shuffle(imgpath)\n",
    "    \n",
    "    for ipath in imgpath:\n",
    "        #print(ipath)\n",
    "        image = cv2.imread(ipath,0)\n",
    "        image = image.astype('float32') / 255\n",
    "        tmp1, tmp2 = ipath.split(os.path.sep)[-3] , ipath.split(os.path.sep)[-2]\n",
    "        #perhaps normalize the set X\n",
    "        if tmp1 == \"train\": \n",
    "            train_data.append(image.flatten())\n",
    "            if tmp2 == \"A\" and tmp1 == \"train\": \n",
    "                train_labels.append(1)\n",
    "            else:\n",
    "                train_labels.append(-1)\n",
    "        else: \n",
    "            test_data.append(image.flatten())\n",
    "            if tmp2 == \"A\": \n",
    "                test_labels.append(1)\n",
    "            else: \n",
    "                test_labels.append(-1)\n",
    "                \n",
    "    train_data, test_data = np.array(train_data), np.array(test_data)\n",
    "    train_labels, test_labels = np.array(train_labels), np.array(test_labels)\n",
    "    print(\"Loading dataset done.\")\n",
    "    return train_data, test_data, train_labels, test_labels"
   ]
  },
  {
   "cell_type": "code",
   "execution_count": 84,
   "metadata": {},
   "outputs": [
    {
     "name": "stdout",
     "output_type": "stream",
     "text": [
      "Loading images...\n",
      "Loading dataset done.\n"
     ]
    }
   ],
   "source": [
    "train_data, test_data, train_labels, test_labels = load_data()"
   ]
  },
  {
   "cell_type": "markdown",
   "metadata": {},
   "source": [
    "### Define the Dataset"
   ]
  },
  {
   "cell_type": "markdown",
   "metadata": {},
   "source": [
    "The images are $28$ by $28$ pixels that range from 0 to 255 but I have normalized them to range from 0 to 1. Hence we have that $\\mathcal{X} \\in [0,1]^{784}$ and $\\mathcal{Y} \\in \\{1,-1\\}$"
   ]
  },
  {
   "cell_type": "code",
   "execution_count": 85,
   "metadata": {},
   "outputs": [
    {
     "name": "stdout",
     "output_type": "stream",
     "text": [
      "Total training images:  (900, 784)\n",
      "Total testing images:  (750, 784)\n",
      "Number of 'A' from the training data: 300 images\n",
      "Number of 'A' from the test data: 250 images \n",
      "Shape of the images:  784\n"
     ]
    }
   ],
   "source": [
    "print(\"Total training images: \", train_data.shape)\n",
    "print(\"Total testing images: \", test_data.shape)\n",
    "print(\"Number of 'A' from the training data: {} images\".format(list(train_labels).count(1)))\n",
    "print(\"Number of 'A' from the test data: {} images \".format(list(test_labels).count(1)))\n",
    "print(\"Shape of the images: \", train_data[0].shape[0])"
   ]
  },
  {
   "cell_type": "code",
   "execution_count": 86,
   "metadata": {},
   "outputs": [
    {
     "data": {
      "image/png": "[encoded data removed]",
      "text/plain": [
       "<matplotlib.figure.Figure at 0x1a256ea358>"
      ]
     },
     "metadata": {},
     "output_type": "display_data"
    }
   ],
   "source": [
    "#examples from the dataset\n",
    "plt.figure(figsize=(15,10))\n",
    "for index, (image, label) in enumerate(zip(train_data[0:5], train_labels[0:5])):\n",
    "    plt.subplot(1, 5, index + 1)\n",
    "    plt.imshow(image.reshape(28,28), cmap='binary')\n",
    "    plt.title('Label %i\\n' % label, fontsize = 20)"
   ]
  },
  {
   "cell_type": "markdown",
   "metadata": {},
   "source": [
    "## Proximal Gradient Descent (ISTA) and Gradient Descent"
   ]
  },
  {
   "cell_type": "markdown",
   "metadata": {},
   "source": [
    "<div markdown=1 class=\"Algo\"> ISTA algorithm\n",
    "\n",
    "* Initialization: Start at point $\\theta^0$, Lipschitz constant L>0. \n",
    "* For k = 1,2 ... until convergence\n",
    "    * $\\theta^k = prox_{\\lambda||\\cdot||_1/L} (\\theta^{k-1}-\\frac{1}{L}\\nabla f(\\theta^{k-1}))$\n",
    "* Return last $\\theta^k$"
   ]
  },
  {
   "cell_type": "markdown",
   "metadata": {},
   "source": [
    "<div markdown=1 class=\"Def\"> Proximal operator. \n",
    "\n",
    "For any convex function $g$ we define it's proximal operator as:\n",
    "$$\n",
    "\\text{prox}_g(y) = \\text{argmin}_{x\\in\\mathbb{R}^d} \\left\\{\\frac{1}{2} || x - y ||_2^2 + g(x) \\right\\}\n",
    "$$"
   ]
  },
  {
   "cell_type": "markdown",
   "metadata": {},
   "source": [
    "<div markdown=1 class=\"Rmk\"> From the lecture we know that:\n",
    "$$\n",
    "\\text{prox}_{\\lambda ||\\cdot||_1 (y)} = S_\\lambda(y) = \\text{sign}(y) \\cdot (|y| - \\lambda)_+\n",
    "$$"
   ]
  },
  {
   "cell_type": "code",
   "execution_count": 87,
   "metadata": {},
   "outputs": [],
   "source": [
    "def gradf(ID, x, y, theta, lambd):\n",
    "    def sigmoid(z):\n",
    "        return np.exp(z) / (1 + np.exp(z))\n",
    "    s = -y * (x@theta.T)\n",
    "    grad = - 1/len(y) * (sigmoid(s) * y.T) @ x\n",
    "    if ID == 'l1': \n",
    "        return grad\n",
    "    elif ID == 'l2':\n",
    "        return grad + 2 * lambd * theta\n",
    "    else:\n",
    "        raise ValueError"
   ]
  },
  {
   "cell_type": "code",
   "execution_count": 88,
   "metadata": {},
   "outputs": [],
   "source": [
    "def error(theta, data, labels): \n",
    "    #computes the error by rounding the results\n",
    "    E = data@theta.T\n",
    "    acc = 0\n",
    "    for x,y in zip(E, labels):\n",
    "        if x > 0 and y == 1: acc += 1 \n",
    "        elif x < 0 and y== -1: acc += 1\n",
    "    # acc # error\n",
    "    return 1 - acc/len(labels)"
   ]
  },
  {
   "cell_type": "code",
   "execution_count": 89,
   "metadata": {},
   "outputs": [],
   "source": [
    "# LASSO with ISTA\n",
    "def positivize(A):\n",
    "    A[A < 0] = 0\n",
    "    return A\n",
    "\n",
    "def soft_thresholding(x, l):\n",
    "    return np.sign(x)*positivize(np.abs(x) - l)\n",
    "\n",
    "def prox(coef, x):\n",
    "    return soft_thresholding(x, coef)\n",
    "\n",
    "def ISTA(itheta, x, y, L, lambd, max_iterations = 500):\n",
    "    theta = itheta\n",
    "    for _ in range(max_iterations):\n",
    "        theta = prox(lambd/L, theta - (1/L) *  gradf('l1', x, y, theta, lambd))\n",
    "    return theta\n",
    "\n",
    "# RIDGE with GD\n",
    "def gradient_descent(itheta, x, y, lambd, max_iterations = 500 ,eta = 1e-3):\n",
    "    theta = itheta\n",
    "    for _ in range(max_iterations):\n",
    "        theta = theta - eta * gradf('l2', x, y, theta, lambd)\n",
    "    return theta"
   ]
  },
  {
   "cell_type": "markdown",
   "metadata": {},
   "source": [
    "### Results"
   ]
  },
  {
   "cell_type": "code",
   "execution_count": 92,
   "metadata": {},
   "outputs": [],
   "source": [
    "# parameters\n",
    "L = np.max([np.linalg.norm(xi)**2 for xi in train_data])\n",
    "lambdas_lasso = np.linspace(0, 1e-1)\n",
    "\n",
    "lambdas_ridge = np.linspace(0, 20)"
   ]
  },
  {
   "cell_type": "code",
   "execution_count": 93,
   "metadata": {},
   "outputs": [
    {
     "name": "stdout",
     "output_type": "stream",
     "text": [
      "Loading lasso errors...\n",
      "Done. Loading ridge errors...\n"
     ]
    },
    {
     "ename": "KeyboardInterrupt",
     "evalue": "",
     "output_type": "error",
     "traceback": [
      "\u001b[0;31m---------------------------------------------------------------------------\u001b[0m",
      "\u001b[0;31mKeyboardInterrupt\u001b[0m                         Traceback (most recent call last)",
      "\u001b[0;32m<ipython-input-93-cd5c928ebd21>\u001b[0m in \u001b[0;36m<module>\u001b[0;34m()\u001b[0m\n\u001b[1;32m     14\u001b[0m \u001b[0;34m\u001b[0m\u001b[0m\n\u001b[1;32m     15\u001b[0m \u001b[0;32mfor\u001b[0m \u001b[0ml\u001b[0m \u001b[0;32min\u001b[0m \u001b[0mlambdas_ridge\u001b[0m\u001b[0;34m:\u001b[0m\u001b[0;34m\u001b[0m\u001b[0m\n\u001b[0;32m---> 16\u001b[0;31m     \u001b[0mtheta\u001b[0m \u001b[0;34m=\u001b[0m \u001b[0mgradient_descent\u001b[0m\u001b[0;34m(\u001b[0m\u001b[0mnp\u001b[0m\u001b[0;34m.\u001b[0m\u001b[0mrandom\u001b[0m\u001b[0;34m.\u001b[0m\u001b[0mrandom_sample\u001b[0m\u001b[0;34m(\u001b[0m\u001b[0mtrain_data\u001b[0m\u001b[0;34m.\u001b[0m\u001b[0mshape\u001b[0m\u001b[0;34m[\u001b[0m\u001b[0;36m1\u001b[0m\u001b[0;34m]\u001b[0m\u001b[0;34m)\u001b[0m\u001b[0;34m*\u001b[0m\u001b[0;36m1e-5\u001b[0m\u001b[0;34m,\u001b[0m \u001b[0mtrain_data\u001b[0m\u001b[0;34m,\u001b[0m \u001b[0mtrain_labels\u001b[0m\u001b[0;34m,\u001b[0m \u001b[0ml\u001b[0m\u001b[0;34m)\u001b[0m\u001b[0;34m\u001b[0m\u001b[0m\n\u001b[0m\u001b[1;32m     17\u001b[0m     \u001b[0mrthetas\u001b[0m\u001b[0;34m.\u001b[0m\u001b[0mappend\u001b[0m\u001b[0;34m(\u001b[0m\u001b[0mtheta\u001b[0m\u001b[0;34m)\u001b[0m\u001b[0;34m\u001b[0m\u001b[0m\n\u001b[1;32m     18\u001b[0m     \u001b[0mr_err_train\u001b[0m\u001b[0;34m.\u001b[0m\u001b[0mappend\u001b[0m\u001b[0;34m(\u001b[0m\u001b[0merror\u001b[0m\u001b[0;34m(\u001b[0m\u001b[0mtheta\u001b[0m\u001b[0;34m,\u001b[0m \u001b[0mtrain_data\u001b[0m\u001b[0;34m,\u001b[0m \u001b[0mtrain_labels\u001b[0m\u001b[0;34m)\u001b[0m\u001b[0;34m)\u001b[0m\u001b[0;34m\u001b[0m\u001b[0m\n",
      "\u001b[0;32m<ipython-input-89-d3d853ada70a>\u001b[0m in \u001b[0;36mgradient_descent\u001b[0;34m(itheta, x, y, lambd, max_iterations, eta)\u001b[0m\n\u001b[1;32m     20\u001b[0m     \u001b[0mtheta\u001b[0m \u001b[0;34m=\u001b[0m \u001b[0mitheta\u001b[0m\u001b[0;34m\u001b[0m\u001b[0m\n\u001b[1;32m     21\u001b[0m     \u001b[0;32mfor\u001b[0m \u001b[0m_\u001b[0m \u001b[0;32min\u001b[0m \u001b[0mrange\u001b[0m\u001b[0;34m(\u001b[0m\u001b[0mmax_iterations\u001b[0m\u001b[0;34m)\u001b[0m\u001b[0;34m:\u001b[0m\u001b[0;34m\u001b[0m\u001b[0m\n\u001b[0;32m---> 22\u001b[0;31m         \u001b[0mtheta\u001b[0m \u001b[0;34m=\u001b[0m \u001b[0mtheta\u001b[0m \u001b[0;34m-\u001b[0m \u001b[0meta\u001b[0m \u001b[0;34m*\u001b[0m \u001b[0mgradf\u001b[0m\u001b[0;34m(\u001b[0m\u001b[0;34m'l2'\u001b[0m\u001b[0;34m,\u001b[0m \u001b[0mx\u001b[0m\u001b[0;34m,\u001b[0m \u001b[0my\u001b[0m\u001b[0;34m,\u001b[0m \u001b[0mtheta\u001b[0m\u001b[0;34m,\u001b[0m \u001b[0mlambd\u001b[0m\u001b[0;34m)\u001b[0m\u001b[0;34m\u001b[0m\u001b[0m\n\u001b[0m\u001b[1;32m     23\u001b[0m     \u001b[0;32mreturn\u001b[0m \u001b[0mtheta\u001b[0m\u001b[0;34m\u001b[0m\u001b[0m\n",
      "\u001b[0;32m<ipython-input-87-5180198943f1>\u001b[0m in \u001b[0;36mgradf\u001b[0;34m(ID, x, y, theta, lambd)\u001b[0m\n\u001b[1;32m      3\u001b[0m         \u001b[0;32mreturn\u001b[0m \u001b[0mnp\u001b[0m\u001b[0;34m.\u001b[0m\u001b[0mexp\u001b[0m\u001b[0;34m(\u001b[0m\u001b[0mz\u001b[0m\u001b[0;34m)\u001b[0m \u001b[0;34m/\u001b[0m \u001b[0;34m(\u001b[0m\u001b[0;36m1\u001b[0m \u001b[0;34m+\u001b[0m \u001b[0mnp\u001b[0m\u001b[0;34m.\u001b[0m\u001b[0mexp\u001b[0m\u001b[0;34m(\u001b[0m\u001b[0mz\u001b[0m\u001b[0;34m)\u001b[0m\u001b[0;34m)\u001b[0m\u001b[0;34m\u001b[0m\u001b[0m\n\u001b[1;32m      4\u001b[0m     \u001b[0ms\u001b[0m \u001b[0;34m=\u001b[0m \u001b[0;34m-\u001b[0m\u001b[0my\u001b[0m \u001b[0;34m*\u001b[0m \u001b[0;34m(\u001b[0m\u001b[0mx\u001b[0m\u001b[0;34m@\u001b[0m\u001b[0mtheta\u001b[0m\u001b[0;34m.\u001b[0m\u001b[0mT\u001b[0m\u001b[0;34m)\u001b[0m\u001b[0;34m\u001b[0m\u001b[0m\n\u001b[0;32m----> 5\u001b[0;31m     \u001b[0mgrad\u001b[0m \u001b[0;34m=\u001b[0m \u001b[0;34m-\u001b[0m \u001b[0;36m1\u001b[0m\u001b[0;34m/\u001b[0m\u001b[0mlen\u001b[0m\u001b[0;34m(\u001b[0m\u001b[0my\u001b[0m\u001b[0;34m)\u001b[0m \u001b[0;34m*\u001b[0m \u001b[0;34m(\u001b[0m\u001b[0msigmoid\u001b[0m\u001b[0;34m(\u001b[0m\u001b[0ms\u001b[0m\u001b[0;34m)\u001b[0m \u001b[0;34m*\u001b[0m \u001b[0my\u001b[0m\u001b[0;34m.\u001b[0m\u001b[0mT\u001b[0m\u001b[0;34m)\u001b[0m \u001b[0;34m@\u001b[0m \u001b[0mx\u001b[0m\u001b[0;34m\u001b[0m\u001b[0m\n\u001b[0m\u001b[1;32m      6\u001b[0m     \u001b[0;32mif\u001b[0m \u001b[0mID\u001b[0m \u001b[0;34m==\u001b[0m \u001b[0;34m'l1'\u001b[0m\u001b[0;34m:\u001b[0m\u001b[0;34m\u001b[0m\u001b[0m\n\u001b[1;32m      7\u001b[0m         \u001b[0;32mreturn\u001b[0m \u001b[0mgrad\u001b[0m\u001b[0;34m\u001b[0m\u001b[0m\n",
      "\u001b[0;31mKeyboardInterrupt\u001b[0m: "
     ]
    }
   ],
   "source": [
    "print(\"Loading lasso errors...\")\n",
    "\n",
    "l_err_train, l_err_test, lthetas = [], [], [] \n",
    "\n",
    "for l in lambdas_lasso:\n",
    "    theta = ISTA(np.random.random_sample(train_data.shape[1])*1e-5, train_data, train_labels, L, l)\n",
    "    lthetas.append(theta)\n",
    "    l_err_train.append(error(theta, train_data, train_labels))\n",
    "    l_err_test.append(error(theta, test_data, test_labels))\n",
    "    \n",
    "print(\"Done. Loading ridge errors...\")\n",
    "\n",
    "r_err_train, r_err_test, rthetas = [], [], []\n",
    "\n",
    "for l in lambdas_ridge:\n",
    "    theta = gradient_descent(np.random.random_sample(train_data.shape[1])*1e-5, train_data, train_labels, l)\n",
    "    rthetas.append(theta)\n",
    "    r_err_train.append(error(theta, train_data, train_labels))\n",
    "    r_err_test.append(error(theta, test_data, test_labels))\n",
    "    \n",
    "print(\"Done.\")"
   ]
  },
  {
   "cell_type": "code",
   "execution_count": null,
   "metadata": {},
   "outputs": [],
   "source": [
    "#plots\n",
    "plt.figure(figsize=(30,5))\n",
    "plt.subplot(1,4,1)\n",
    "plt.plot(lambdas_lasso, l_err_train, label = 'train_error')\n",
    "plt.plot(lambdas_lasso, l_err_test, label = 'test_error')\n",
    "plt.xlabel('$\\lambda$')\n",
    "plt.ylabel('0-1 loss')\n",
    "plt.title('ISTA algorithm for lasso')\n",
    "plt.legend()\n",
    "\n",
    "plt.subplot(1,4,2)\n",
    "plt.plot(lambdas_ridge, r_err_train, label = 'train_error')\n",
    "plt.plot(lambdas_ridge, r_err_test, label = 'test_error')\n",
    "plt.xlabel('$\\lambda$')\n",
    "plt.ylabel('0-1 loss')\n",
    "plt.title('GD algorithm for ridge')\n",
    "plt.legend()\n",
    "plt.show()"
   ]
  },
  {
   "cell_type": "markdown",
   "metadata": {},
   "source": [
    "### Best    $\\lambda$"
   ]
  },
  {
   "cell_type": "code",
   "execution_count": 48,
   "metadata": {},
   "outputs": [],
   "source": [
    "# cross validation to find the best lambda\n",
    "\n",
    "def K_fold(n_splits, ID, x, y, lambd, L):\n",
    "    test_error = []\n",
    "    for i in range(0, n_splits):\n",
    "        d = int(len(x) / n_splits) \n",
    "        tests_x = np.array(x[i*d: (i+1)*d])\n",
    "        tests_y = np.array(y[i*d: (i+1)*d])\n",
    "        trains_x = np.concatenate([x[:i*d], x[(i+1)*d:]])\n",
    "        trains_y = np.concatenate([y[:i*d], y[(i+1)*d:]])\n",
    "        if ID==\"l1\":\n",
    "            theta = ISTA(np.random.random_sample(train_data.shape[1])*1e-5, train_data, train_labels, L, l)\n",
    "        elif ID==\"l2\":\n",
    "            theta = gradient_descent(np.random.random_sample(train_data.shape[1])*1e-5, train_data, train_labels, l)\n",
    "        else: \n",
    "            raise ValueError\n",
    "        test_error.append(error(theta, tests_x, tests_y))\n",
    "    return np.sum(test_error)/len(test_error)"
   ]
  },
  {
   "cell_type": "code",
   "execution_count": 51,
   "metadata": {},
   "outputs": [
    {
     "name": "stdout",
     "output_type": "stream",
     "text": [
      "Loading K_fold lasso..\n",
      "Done. Loading K_fold ridge...\n",
      "Done.\n"
     ]
    }
   ],
   "source": [
    "lambdas_ridge2 = np.linspace(0, 3,2)\n",
    "lambdas_lasso2 = np.linspace(0, 3,2)\n",
    "r_err , l_err = [], []\n",
    "n_splits = 5\n",
    "\n",
    "print(\"Loading K_fold lasso..\")\n",
    "for l in lambdas_ridge2:\n",
    "    l_err.append(K_fold(n_splits, 'l1', train_data, train_labels, l, L))\n",
    "print(\"Done. Loading K_fold ridge...\")\n",
    "for l in lambdas_ridge:\n",
    "    r_err.append(K_fold(n_splits, 'l2', train_data, train_labels, l, L))\n",
    "print(\"Done.\")"
   ]
  },
  {
   "cell_type": "code",
   "execution_count": 79,
   "metadata": {},
   "outputs": [
    {
     "name": "stdout",
     "output_type": "stream",
     "text": [
      "Norm      Best lambda  Error    \n",
      "============================================================\n",
      "L1        0.0       0.059999999999999984\n",
      "L2        0.02222   0.059999999999999984\n"
     ]
    }
   ],
   "source": [
    "#print('Best lambda is: ', (l_err[2]))\n",
    "\n",
    "title = [\"Best lambda \", \" Error \"]\n",
    "title2 = [\"L1\", \"L2\"]\n",
    "data = [[lambdas_ridge[np.argmin(l_err)] , (min(l_err))], \n",
    "        [np.round(lambdas_lasso[np.argmin(r_err)], 5), min(r_err)]]\n",
    "\n",
    "format_row = \"{:<10}\" * (len(title) + 1)\n",
    "print(format_row.format(\"Norm\",*title))\n",
    "print(\"=====\"*(len(title[0])))\n",
    "for team, row in zip(title2, data):\n",
    "    print(format_row.format(team, *row))\n"
   ]
  },
  {
   "cell_type": "code",
   "execution_count": 80,
   "metadata": {},
   "outputs": [
    {
     "ename": "NameError",
     "evalue": "name 'lthetas' is not defined",
     "output_type": "error",
     "traceback": [
      "\u001b[0;31m---------------------------------------------------------------------------\u001b[0m",
      "\u001b[0;31mNameError\u001b[0m                                 Traceback (most recent call last)",
      "\u001b[0;32m<ipython-input-80-1d139c52f132>\u001b[0m in \u001b[0;36m<module>\u001b[0;34m()\u001b[0m\n\u001b[1;32m      7\u001b[0m \u001b[0;32mfor\u001b[0m \u001b[0ml\u001b[0m \u001b[0;32min\u001b[0m \u001b[0mll\u001b[0m\u001b[0;34m:\u001b[0m\u001b[0;34m\u001b[0m\u001b[0m\n\u001b[1;32m      8\u001b[0m     \u001b[0mplt\u001b[0m\u001b[0;34m.\u001b[0m\u001b[0msubplot\u001b[0m\u001b[0;34m(\u001b[0m\u001b[0;36m1\u001b[0m\u001b[0;34m,\u001b[0m\u001b[0;36m4\u001b[0m\u001b[0;34m,\u001b[0m\u001b[0;36m1\u001b[0m\u001b[0;34m)\u001b[0m\u001b[0;34m\u001b[0m\u001b[0m\n\u001b[0;32m----> 9\u001b[0;31m     \u001b[0mimage\u001b[0m \u001b[0;34m=\u001b[0m \u001b[0mlthetas\u001b[0m\u001b[0;34m[\u001b[0m\u001b[0ml\u001b[0m\u001b[0;34m]\u001b[0m\u001b[0;34m\u001b[0m\u001b[0m\n\u001b[0m\u001b[1;32m     10\u001b[0m     \u001b[0mplt\u001b[0m\u001b[0;34m.\u001b[0m\u001b[0mimshow\u001b[0m\u001b[0;34m(\u001b[0m\u001b[0mimage\u001b[0m\u001b[0;34m.\u001b[0m\u001b[0mreshape\u001b[0m\u001b[0;34m(\u001b[0m\u001b[0;36m28\u001b[0m\u001b[0;34m,\u001b[0m\u001b[0;36m28\u001b[0m\u001b[0;34m)\u001b[0m\u001b[0;34m)\u001b[0m\u001b[0;34m\u001b[0m\u001b[0m\n\u001b[1;32m     11\u001b[0m     \u001b[0mplt\u001b[0m\u001b[0;34m.\u001b[0m\u001b[0mcolorbar\u001b[0m\u001b[0;34m(\u001b[0m\u001b[0;34m)\u001b[0m\u001b[0;34m\u001b[0m\u001b[0m\n",
      "\u001b[0;31mNameError\u001b[0m: name 'lthetas' is not defined"
     ]
    },
    {
     "data": {
      "image/png": "[encoded data removed]",
      "text/plain": [
       "<matplotlib.figure.Figure at 0x1a2c51a400>"
      ]
     },
     "metadata": {},
     "output_type": "display_data"
    }
   ],
   "source": [
    "# plot 4 images for estimator\n",
    "ll = [0.011, 0.04, 0.06, 0.1]\n",
    "lr = [0.5888, 2, 4, 6]\n",
    "\n",
    "plt.figure(figsize = (40,5))\n",
    "plt.title(\"Lasso\")\n",
    "for l in ll:\n",
    "    plt.subplot(1,4,1)\n",
    "    image = lthetas[l]\n",
    "    plt.imshow(image.reshape(28,28))\n",
    "    plt.colorbar()\n",
    "    plt.title(\"$\\hat{\\theta}_{\\lambda}$ for $\\lambda ={}, err ={}$\".format(l, l_err_test[l]))\n",
    "plt.show()\n",
    "\n",
    "plt.figure(figsize = (40,5))\n",
    "plt.title(\"Lasso\")\n",
    "for l in lr:\n",
    "    plt.subplot(1,4,1)\n",
    "    image = rthetas[l]\n",
    "    plt.imshow(image.reshape(28,28))\n",
    "    plt.colorbar()\n",
    "    plt.title(\"$\\hat{\\theta}_{\\lambda}$ for $\\lambda ={}, err ={}$\".format(l, r_err_test[l]))\n",
    "plt.show()"
   ]
  },
  {
   "cell_type": "markdown",
   "metadata": {},
   "source": [
    "## LDA"
   ]
  },
  {
   "cell_type": "markdown",
   "metadata": {},
   "source": [
    "## Unsupervised Learning"
   ]
  },
  {
   "cell_type": "code",
   "execution_count": 4,
   "metadata": {},
   "outputs": [],
   "source": [
    "def load_data2():\n",
    "    print(\"Loading images...\")\n",
    "    df_train = pd.DataFrame()\n",
    "    data, labels = [], []\n",
    "    imgpath = sorted(list(paths.list_images(\"./data2\")))\n",
    "    random.seed(time.time())\n",
    "    random.shuffle(imgpath)\n",
    "    for ipath in imgpath:\n",
    "        image = cv2.imread(ipath,0)\n",
    "        image = image.astype('float32') / 255\n",
    "        tmp2 = ipath.split(os.path.sep)[-2]\n",
    "        #perhaps normalize the set X\n",
    "        data.append(image.flatten())\n",
    "        if tmp2 == \"A\": \n",
    "            labels.append(0)\n",
    "        elif tmp2 == \"B\":\n",
    "            labels.append(1)\n",
    "        else:\n",
    "            labels.append(2)\n",
    "    print(\"Loading dataset done.\")   \n",
    "    return np.array(data),  np.array(labels)"
   ]
  },
  {
   "cell_type": "code",
   "execution_count": 8,
   "metadata": {},
   "outputs": [
    {
     "name": "stdout",
     "output_type": "stream",
     "text": [
      "Loading images...\n",
      "Loading dataset done.\n",
      "Total images:  (1650, 784)\n"
     ]
    }
   ],
   "source": [
    "data, labels = load_data2()\n",
    "print(\"Total images: \", data.shape)"
   ]
  },
  {
   "cell_type": "markdown",
   "metadata": {},
   "source": [
    "### Re-define the dataset\n",
    "\n",
    "$\\mathcal{Y} \\in \\{0,1,2\\}$ where $Y_i = 0$ if image is $\"A\"$, $Y_i = 1$ if image is $\"B\"$, $Y_i = 2$ if image is $\"C\"$."
   ]
  },
  {
   "cell_type": "code",
   "execution_count": 9,
   "metadata": {},
   "outputs": [
    {
     "name": "stdout",
     "output_type": "stream",
     "text": [
      "Total images:  (1650, 784)\n",
      "Shape of the images/ Number of features:  784\n"
     ]
    },
    {
     "data": {
      "image/png": "[encoded data removed]",
      "text/plain": [
       "<matplotlib.figure.Figure at 0x10d3f6828>"
      ]
     },
     "metadata": {},
     "output_type": "display_data"
    }
   ],
   "source": [
    "print(\"Total images: \", data.shape)\n",
    "print(\"Shape of the images/ Number of features: \", data[0].shape[0])\n",
    "#examples from the dataset\n",
    "plt.figure(figsize=(15,10))\n",
    "for index, (image, label) in enumerate(zip(data[0:5], labels[0:5])):\n",
    "    plt.subplot(1, 5, index + 1)\n",
    "    plt.imshow(image.reshape(28,28), cmap='binary')\n",
    "    plt.title('Label %i\\n' % label, fontsize = 20)"
   ]
  },
  {
   "cell_type": "markdown",
   "metadata": {},
   "source": [
    "### K-Means "
   ]
  },
  {
   "cell_type": "code",
   "execution_count": 10,
   "metadata": {},
   "outputs": [],
   "source": [
    "def euclid_dist(x,y):\n",
    "    return (np.sum((x - y)**2, axis=1))**0.5\n",
    "\n",
    "def k_means(data, labels, k, max_iter = 500):\n",
    "    centroids = data[:k]\n",
    "    for _ in range(max_iter):\n",
    "        clusters = [[] for _ in range(k)]\n",
    "        labels_clusters = [[] for _ in range(k)]\n",
    "        for value,label in zip(data,labels):\n",
    "            c = np.argmin(euclid_dist(value, centroids))\n",
    "            clusters[c].append(value)\n",
    "            labels_clusters[c].append(label)\n",
    "        tmp = []\n",
    "        for cl in clusters:\n",
    "            tmp.append((sum(cl)/len(cl)))\n",
    "        centroids = tmp\n",
    "    return centroids, clusters, labels_clusters\n",
    "\n",
    "def find_label(cluster):\n",
    "    poss = [0, 1, 2]\n",
    "    counts = [cluster.count(i) for i in poss]\n",
    "    label = poss[np.argmax(counts)]\n",
    "    err = sum(counts) - counts[label]\n",
    "    return label, err\n",
    "\n",
    "def kmeans_error(labels_clusters):\n",
    "    errs = [find_label(c)[1] for c in labels_clusters]\n",
    "    return sum(errs) \n",
    "\n",
    "def k_means_init(n_init, data, labels, k, max_iter = 100):\n",
    "    best_centrois, best_clusters, best_labels_clusters, best_err = None, None, None, np.inf\n",
    "    for i in range(n_init):\n",
    "        print('Starting {}th iteration'.format(i))\n",
    "        tab = np.arange(len(data))\n",
    "        np.random.shuffle(tab)\n",
    "        centroids, clusters, labels_clusters = k_means(data[tab], labels[tab], k, max_iter)\n",
    "        err = kmeans_error(labels_clusters)\n",
    "        if err < best_err:\n",
    "            best_centrois, best_clusters, best_labels_clusters = centroids, clusters, labels_clusters\n",
    "            best_err = err\n",
    "        print('Done. error: ', err/len(data))\n",
    "    print('Best error found is: ', best_err/len(data))\n",
    "    return best_centrois, best_clusters, best_labels_clusters, best_err/len(data)\n"
   ]
  },
  {
   "cell_type": "code",
   "execution_count": 11,
   "metadata": {},
   "outputs": [
    {
     "name": "stdout",
     "output_type": "stream",
     "text": [
      "Starting 0th iteration\n",
      "Done. error:  0.21696969696969698\n",
      "Starting 1th iteration\n",
      "Done. error:  0.21696969696969698\n",
      "Starting 2th iteration\n",
      "Done. error:  0.21696969696969698\n",
      "Starting 3th iteration\n",
      "Done. error:  0.21696969696969698\n",
      "Starting 4th iteration\n",
      "Done. error:  0.21696969696969698\n",
      "Starting 5th iteration\n",
      "Done. error:  0.21212121212121213\n",
      "Starting 6th iteration\n",
      "Done. error:  0.21151515151515152\n",
      "Starting 7th iteration\n",
      "Done. error:  0.21696969696969698\n",
      "Starting 8th iteration\n",
      "Done. error:  0.21696969696969698\n",
      "Starting 9th iteration\n",
      "Done. error:  0.21333333333333335\n",
      "Best error found is:  0.21151515151515152\n"
     ]
    }
   ],
   "source": [
    "#run kmeans with n_init = 10\n",
    "centroids, clusters, labels_clusters, best_err = k_means_init(10, data, labels, 3)"
   ]
  },
  {
   "cell_type": "code",
   "execution_count": 12,
   "metadata": {},
   "outputs": [
    {
     "data": {
      "image/png": "[encoded data removed]",
      "text/plain": [
       "<matplotlib.figure.Figure at 0x1a25197358>"
      ]
     },
     "metadata": {},
     "output_type": "display_data"
    }
   ],
   "source": [
    "# Confusion Matrix\n",
    "\n",
    "corr_labels = [find_label(labels_clusters[i])[0] for i in range(3)]\n",
    "letters = np.array(['A', 'B', 'C'])\n",
    "\n",
    "predicted_labels = [corr_labels[0]]*len(clusters[0]) + [corr_labels[1]]*len(clusters[1]) + [corr_labels[2]]*len(clusters[2])\n",
    "\n",
    "real_labels = []\n",
    "for i in range(3):\n",
    "    real_labels += labels_clusters[i]\n",
    "\n",
    "cm = confusion_matrix(real_labels, predicted_labels)\n",
    "\n",
    "#plot\n",
    "ax= plt.subplot()\n",
    "sns.heatmap(cm, annot=True, ax = ax); #annot=True to annotate cells\n",
    "ax.set_xlabel('Predicted labels');ax.set_ylabel('True labels') \n",
    "ax.set_title('Confusion Matrix on data') \n",
    "ax.xaxis.set_ticklabels(letters[corr_labels]) \n",
    "ax.yaxis.set_ticklabels(letters[corr_labels])\n",
    "plt.show()"
   ]
  },
  {
   "cell_type": "code",
   "execution_count": 13,
   "metadata": {},
   "outputs": [],
   "source": [
    "def pca(central, data, n_components = 2):\n",
    "    n,m = data.shape\n",
    "    #print('Data shape: ', data.shape)\n",
    "    mean = data.mean(axis=0)\n",
    "    #print(mean.shape)\n",
    "    if central: # central data to make the clusters look distinct\n",
    "        data = data - mean\n",
    "    CovarianceMatrix = (data.T @ data)/(n-1)\n",
    "    eigenvalues, eigenvectors = np.linalg.eig(CovarianceMatrix)\n",
    "    descending_order = np.flip(np.argsort(eigenvalues))\n",
    "    eigenvalues = eigenvalues[descending_order]\n",
    "    eigenvectors = eigenvectors[:, descending_order]\n",
    "    eigenvalues = eigenvalues[0:n_components]\n",
    "    eigenvectors = eigenvectors[:, 0:n_components]\n",
    "    return data @ eigenvectors"
   ]
  },
  {
   "cell_type": "code",
   "execution_count": 29,
   "metadata": {},
   "outputs": [
    {
     "data": {
      "image/png": "[encoded data removed]",
      "text/plain": [
       "<matplotlib.figure.Figure at 0x1a24fabd68>"
      ]
     },
     "metadata": {},
     "output_type": "display_data"
    }
   ],
   "source": [
    "#run pca on clusters\n",
    "plt.figure(figsize=(30, 5))\n",
    "plt.subplot(1,4,1)\n",
    "plt.title(\"PCA (centered) of the k_means results for k=3\")\n",
    "for c in clusters:\n",
    "    p = pca(1, np.array(c))\n",
    "    plt.scatter(p[:,0], p[:,1])\n",
    "plt.xlabel(\"PCA-1\")\n",
    "plt.ylabel(\"PCA-2\")\n",
    "p = pca(1,np.array(centroids))    \n",
    "plt.scatter(p[:,0], p [:,1], color = 'black', s=200, alpha=0.5)\n",
    "\n",
    "\"\"\"plt.subplot(1,4,1)\n",
    "pca2 = PCA(n_components=2)\n",
    "p1 = pca2.fit_transform(clusters[0])\n",
    "p2 = pca2.fit_transform(clusters[1])\n",
    "p3 = pca2.fit_transform(clusters[2])\n",
    "plt.figure(figsize=(10, 5))\n",
    "plt.scatter(p1[:,0], p1[:,1])\n",
    "plt.scatter(p2[:,0], p2[:,1])\n",
    "plt.scatter(p3[:,0], p3[:,1])\n",
    "plt.title(\"sklearn.PCA of the k_means results for k=3\")\n",
    "plt.xlabel(\"PCA-1\")\n",
    "plt.ylabel(\"PCA-2\")\n",
    "#p = pca(np.array(centroids))    \n",
    "#plt.scatter(p[:,0], p [:,1], color = 'black', s=200, alpha=0.5)\n",
    "plt.show()\"\"\"\n",
    "\n",
    "plt.subplot(1,4,2)\n",
    "plt.title(\"PCA(not centered) of the k_means results for k=3\")\n",
    "for c in clusters:\n",
    "    p = pca(0, np.array(c))\n",
    "    plt.scatter(p[:,0], p[:,1])\n",
    "plt.xlabel(\"PCA-1\")\n",
    "plt.ylabel(\"PCA-2\")\n",
    "plt.show()"
   ]
  },
  {
   "cell_type": "code",
   "execution_count": null,
   "metadata": {},
   "outputs": [],
   "source": []
  }
 ],
 "metadata": {
  "kernelspec": {
   "display_name": "Python 3",
   "language": "python",
   "name": "python3"
  },
  "language_info": {
   "codemirror_mode": {
    "name": "ipython",
    "version": 3
   },
   "file_extension": ".py",
   "mimetype": "text/x-python",
   "name": "python",
   "nbconvert_exporter": "python",
   "pygments_lexer": "ipython3",
   "version": "3.6.4"
  }
 },
 "nbformat": 4,
 "nbformat_minor": 2
}
