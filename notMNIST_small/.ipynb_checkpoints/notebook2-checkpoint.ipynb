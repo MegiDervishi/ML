{
 "cells": [
  {
   "cell_type": "markdown",
   "metadata": {},
   "source": [
    "# Homework solution"
   ]
  },
  {
   "cell_type": "markdown",
   "metadata": {},
   "source": [
    "### Student: Megi Dervishi"
   ]
  },
  {
   "cell_type": "code",
   "execution_count": 1,
   "metadata": {},
   "outputs": [
    {
     "data": {
      "text/html": [
       "<link href='http://fonts.googleapis.com/css?family=Fenix' rel='stylesheet' type='text/css'>\n",
       "<link href='http://fonts.googleapis.com/css?family=Alegreya+Sans:100,300,400,500,700,800,900,100italic,300italic,400italic,500italic,700italic,800italic,900italic' rel='stylesheet' type='text/css'>\n",
       "<link href='http://fonts.googleapis.com/css?family=Source+Code+Pro:300,400' rel='stylesheet' type='text/css'>\n",
       "<link href=\"https://fonts.googleapis.com/css?family=Oswald|Raleway\" rel=\"stylesheet\" type='text/css'> \n",
       "<style>\n",
       ".prompt{\n",
       "    display: none !important;\n",
       "}\n",
       "\n",
       ".rendered_html pre {\n",
       "    border: 1px solid #f0f6f9 !important;\n",
       "}\n",
       "\n",
       ".rendered_html pre, .rendered_html code {\n",
       "    background-color: #d3d8db !important;\n",
       "    padding: 1% !important;\n",
       "    line-height: 200% !important;\n",
       "    border-radius: 10px !important;\n",
       "}\n",
       "\n",
       "div.input_area {\n",
       "    border-radius: 10px !important;\n",
       "    background-color: #e1e1e6 !important;\n",
       "}\n",
       "\n",
       "div.cell{\n",
       "        width:85% !important;\n",
       "        margin-left:5% !important;\n",
       "        /*margin-right:auto;*/\n",
       "    }\n",
       "    h1, h2, h3, h4, h5 {\n",
       "        font-family: 'Oswald', sans-serif; !important;\n",
       "        font-style: oblique !important;\n",
       "    }\n",
       "    div.text_cell_render{\n",
       "        font-family: 'Raleway', sans-serif; !important;\n",
       "        line-height: 135% !important;\n",
       "        font-size: 120% !important;\n",
       "        width:100%;/*600px;*/\n",
       "        /*margin-left:auto;*/\n",
       "        /*margin-right:auto;*/\n",
       "    }\n",
       "    .CodeMirror{\n",
       "            font-family: \"Source Code Pro\" !important;\n",
       "\t\t\tfont-size: 100% !important;\n",
       "    }\n",
       "    .text_cell_render p{\n",
       "        text-align: justify !important;\n",
       "    }\n",
       "    .text_cell_render h1 {\n",
       "        font-weight: 200 !important;\n",
       "\t\tline-height: 100% !important;\n",
       "        color:#47597A !important;\n",
       "        margin-bottom: 10.em !important;\n",
       "        margin-top: 50.em !important;\n",
       "        padding-bottom: 50.em !important;\n",
       "        padding-top: 50.em !important;\n",
       "        display: block !important;\n",
       "        font-size: 300% !important;\n",
       "        text-align: center !important;\n",
       "        border-bottom: 1px solid #47597A !important;\n",
       "        border-top: 1px solid #47597A !important;\n",
       "    }\n",
       "    .text_cell_render h2 {\n",
       "        font-weight: 200 !important;\n",
       "\tline-height: 100% !important;\n",
       "        color:#47597A !important;\n",
       "        margin-bottom: 0.5em !important;\n",
       "        margin-top: 0.5em !important;\n",
       "        display: block !important;\n",
       "        font-size: 200% !important;\n",
       "        border-bottom: 1px solid #47597A !important;\n",
       "    }\n",
       "    .text_cell_render h3 {\n",
       "        font-weight: 200 !important;\n",
       "\tline-height: 100% !important;\n",
       "        color:#47597A !important;\n",
       "        margin-bottom: 0.5em !important;\n",
       "        margin-top: 0.5em !important;\n",
       "        display: block !important;\n",
       "        font-size: 150% !important;\n",
       "    }\n",
       "    .text_cell_render h4 {\n",
       "        font-style: italic !important;\n",
       "        font-weight: bold !important;\n",
       "\tline-height: 100% !important;\n",
       "        color:#47597A !important;\n",
       "        display: block !important;\n",
       "        font-size: 100% !important;\n",
       "    }\n",
       "    .text_cell_render h5 {\n",
       "        font-weight: 200 !important;\n",
       "\tline-height: 100% !important;\n",
       "        color:#47597A !important;\n",
       "        margin-bottom: 0.5em !important;\n",
       "        margin-top: 0.5em !important;\n",
       "        display: block !important;\n",
       "        font-size: 100% !important;\n",
       "    }\n",
       "    .text_cell_render ul {\n",
       "\tlist-style-type: disc !important;\n",
       "\tline-height: 2;\n",
       "\t/*color:#47597A !important;*/\n",
       "    }\n",
       "    .warning{\n",
       "        color: rgb( 240, 20, 20 ) !important;\n",
       "        }\n",
       "    .Abstract {  \n",
       "\ttext-align: justify;\n",
       "\tbackground-color: #d6edf9;\n",
       "\tborder-left: 5px solid #47597A;\n",
       "\tpadding: 0.5em;\n",
       "\tmargin: 0  150px 0 150px;\n",
       "    }\n",
       "    .Def {    \n",
       "\tbackground-color: #d9f7d7;\n",
       "\tborder-left: 5px solid #4a7047;\n",
       "\tpadding: 0.5em;\n",
       "    }\n",
       "    .Def:before {\n",
       "\tcontent: \"Definition.\";\n",
       "\tcolor:#4a7047;\n",
       "\tfont-weight: bold;\n",
       "\tfont-style: normal;\n",
       "    }\n",
       "    .DoIt {    \n",
       "\tbackground-color: #A9F5BC;\n",
       "\tborder-left: 5px solid #0A2A12;\n",
       "\tpadding: 0.5em;\n",
       "    }\n",
       "    .DoIt:before {\n",
       "\tcontent: \"Suggestion.\";\n",
       "\tcolor:#0A2A12;\n",
       "\tfont-weight: bold;\n",
       "\tfont-style: normal;\n",
       "    }\n",
       "    .Answers {    \n",
       "\tbackground-color: rgb(172, 223, 236);\n",
       "\tborder-left: 5px solid rgb(16, 175, 207);\n",
       "\tpadding: 0.5em;\n",
       "    }\n",
       "    .Answers:before {\n",
       "\tcontent: \"Answers.\";\n",
       "\tcolor:#801919;\n",
       "\tfont-weight: bold;\n",
       "\tfont-style: normal;\n",
       "    }\n",
       "    .Prop {    \n",
       "\tbackground-color:#f9ecd1;\n",
       "\tborder-left: 5px solid #ba7021;\n",
       "\tpadding: 0.5em;\n",
       "    }\n",
       "   .Prop:before {\n",
       "       content: \"Further questions.\";\n",
       "       color:#ba7021;\n",
       "       font-weight: bold;\n",
       "       font-style: normal;\n",
       "    }\n",
       "   .Thm {    \n",
       "\tbackground-color:#f9ecd1;\n",
       "\tborder-left: 5px solid #ba7021;\n",
       "\tpadding: 0.5em;\n",
       "    }\n",
       "   .Thm:before {\n",
       "       content: \"Theorem.\";\n",
       "       color:#ba7021;\n",
       "       font-weight: bold;\n",
       "       font-style: normal;\n",
       "    } \n",
       "   .Algo {    \n",
       "\tbackground-color:#f9ecd1;\n",
       "\tborder-left: 5px solid #ba7021;\n",
       "\tpadding: 0.5em;\n",
       "    }\n",
       "   .Algo:before {\n",
       "       content: \"Algorithm.\";\n",
       "       color:#ba7021;\n",
       "       font-weight: bold;\n",
       "       font-style: normal;\n",
       "    }\n",
       "    .Rmk {    \n",
       "\tbackground-color: #dbfcdd;\n",
       "\tborder-left: 5px solid #38873f;\n",
       "\tpadding: 0.5em;\n",
       "    }\n",
       "    .Rmk:before {\n",
       "\tcontent: \"Remark.\";\n",
       "\tcolor:#407035;\n",
       "\tfont-weight: bold;\n",
       "\tfont-style: normal;\n",
       "    }\n",
       "    .Ex {    \n",
       "\tbackground-color: #dbf1fc;\n",
       "\tborder-left: 5px solid #385487;\n",
       "\tpadding: 0.5em;\n",
       "    }\n",
       "    .Ex:before {\n",
       "\tcontent: \"Example.\";\n",
       "\tcolor:#385487;\n",
       "\tfont-weight: bold;\n",
       "\tfont-style: normal;\n",
       "    }\n",
       "\n",
       "/*    .toc-item-num {\n",
       "#        display: none;\n",
       "#    }\n",
       "*/\n",
       "    .reveal section img{\n",
       "        margin: 0px auto;\n",
       "    }\n",
       "\n",
       "    div.output_area img{\n",
       "        display: block;\n",
       "        margin: 0px auto;\n",
       "    }\n",
       "  \n",
       "</style>\n",
       "\n",
       "<script>\n",
       "MathJax.Hub.Config({\n",
       "TeX: {extensions: [\"AMSmath.js\"] },\n",
       "                tex2jax: {\n",
       "                    inlineMath: [ ['$','$'], [\"\\\\(\",\"\\\\)\"] ],\n",
       "                    displayMath: [ ['$$','$$'], [\"\\\\[\",\"\\\\]\"] ]\n",
       "                },\n",
       "                displayAlign: 'center', // Change this to 'center' to center equations.\n",
       "                \"HTML-CSS\": {\n",
       "                    styles: {'.MathJax_Display': {\"margin\": 4}}\n",
       "                }\n",
       "        });\n",
       "\n",
       "\n",
       "\n",
       "</script>"
      ],
      "text/plain": [
       "<IPython.core.display.HTML object>"
      ]
     },
     "execution_count": 1,
     "metadata": {},
     "output_type": "execute_result"
    }
   ],
   "source": [
    "# execute this part to modify the css style\n",
    "from IPython.core.display import HTML\n",
    "def css_styling():\n",
    "    styles = open(\"./style.css\").read()\n",
    "    return HTML(styles)\n",
    "css_styling()"
   ]
  },
  {
   "cell_type": "code",
   "execution_count": 2,
   "metadata": {},
   "outputs": [],
   "source": [
    "import os\n",
    "import numpy as np\n",
    "import matplotlib.pyplot as plt\n",
    "import pandas as pd\n",
    "import cv2\n",
    "from imutils import paths\n",
    "import random\n",
    "import time\n",
    "import scipy.io as sio\n",
    "import sklearn\n",
    "import sklearn.linear_model\n",
    "import sklearn.pipeline\n",
    "import sklearn.preprocessing\n",
    "from sklearn.decomposition import PCA\n",
    "from sklearn.model_selection import train_test_split\n",
    "from sklearn.metrics import classification_report, confusion_matrix\n",
    "from scipy.optimize import curve_fit"
   ]
  },
  {
   "cell_type": "markdown",
   "metadata": {},
   "source": [
    "### Load Dataset"
   ]
  },
  {
   "cell_type": "code",
   "execution_count": 3,
   "metadata": {},
   "outputs": [],
   "source": [
    "def load_data():\n",
    "    #load from train -> from folder A have label 1 else have label 0\n",
    "    # load from test -> same thing\n",
    "    # shuffle\n",
    "    print(\"Loading images...\")\n",
    "    df_train = pd.DataFrame()\n",
    "    train_data, train_labels = [], []\n",
    "    test_data, test_labels = [], []\n",
    "    imgpath = sorted(list(paths.list_images(\"./data2\")))\n",
    "    random.seed(time.time())\n",
    "    random.shuffle(imgpath)\n",
    "    \n",
    "    for ipath in imgpath:\n",
    "        #print(ipath)\n",
    "        image = cv2.imread(ipath,0)\n",
    "        image = image.astype('float32') / 255\n",
    "        tmp1, tmp2 = ipath.split(os.path.sep)[-3] , ipath.split(os.path.sep)[-2]\n",
    "        #perhaps normalize the set X\n",
    "        if tmp1 == \"train\": \n",
    "            train_data.append(image.flatten())\n",
    "            if tmp2 == \"A\" and tmp1 == \"train\": \n",
    "                train_labels.append(1)\n",
    "            else:\n",
    "                train_labels.append(-1)\n",
    "        else: \n",
    "            test_data.append(image.flatten())\n",
    "            if tmp2 == \"A\": \n",
    "                test_labels.append(1)\n",
    "            else: \n",
    "                test_labels.append(-1)\n",
    "                \n",
    "    train_data, test_data = np.array(train_data), np.array(test_data)\n",
    "    train_labels, test_labels = np.array(train_labels), np.array(test_labels)\n",
    "    print(\"Loading dataset done.\")\n",
    "    return train_data, test_data, train_labels, test_labels"
   ]
  },
  {
   "cell_type": "code",
   "execution_count": 4,
   "metadata": {},
   "outputs": [
    {
     "name": "stdout",
     "output_type": "stream",
     "text": [
      "Loading images...\n",
      "Loading dataset done.\n"
     ]
    }
   ],
   "source": [
    "train_data, test_data, train_labels, test_labels = load_data()"
   ]
  },
  {
   "cell_type": "markdown",
   "metadata": {},
   "source": [
    "### Define the Dataset"
   ]
  },
  {
   "cell_type": "markdown",
   "metadata": {},
   "source": [
    "The images are $28$ by $28$ pixels that range from 0 to 255 but I have normalized them to range from 0 to 1. Hence we have that $\\mathcal{X} \\in [0,1]^{784}$ and $\\mathcal{Y} \\in \\{1,-1\\}$"
   ]
  },
  {
   "cell_type": "code",
   "execution_count": 5,
   "metadata": {},
   "outputs": [
    {
     "name": "stdout",
     "output_type": "stream",
     "text": [
      "Total training images:  (900, 784)\n",
      "Total testing images:  (750, 784)\n",
      "Number of 'A' from the training data: 300 images\n",
      "Number of 'A' from the test data: 250 images \n",
      "Shape of the images:  784\n"
     ]
    }
   ],
   "source": [
    "print(\"Total training images: \", train_data.shape)\n",
    "print(\"Total testing images: \", test_data.shape)\n",
    "print(\"Number of 'A' from the training data: {} images\".format(list(train_labels).count(1)))\n",
    "print(\"Number of 'A' from the test data: {} images \".format(list(test_labels).count(1)))\n",
    "print(\"Shape of the images: \", train_data[0].shape[0])"
   ]
  },
  {
   "cell_type": "code",
   "execution_count": 6,
   "metadata": {},
   "outputs": [
    {
     "data": {
      "image/png": "[encoded data removed]",
      "text/plain": [
       "<matplotlib.figure.Figure at 0x1a1d992630>"
      ]
     },
     "metadata": {},
     "output_type": "display_data"
    }
   ],
   "source": [
    "#examples from the dataset\n",
    "plt.figure(figsize=(15,10))\n",
    "for index, (image, label) in enumerate(zip(train_data[0:5], train_labels[0:5])):\n",
    " plt.subplot(1, 5, index + 1)\n",
    " plt.imshow(image.reshape(28,28), cmap='binary')\n",
    " plt.title('Label %i\\n' % label, fontsize = 20)"
   ]
  },
  {
   "cell_type": "markdown",
   "metadata": {},
   "source": [
    "### GD for Lasso + Ridge"
   ]
  },
  {
   "cell_type": "markdown",
   "metadata": {},
   "source": [
    "<div markdown=1 class=\"Algo\"> ISTA algorithm\n",
    "* Initialization: Start at point $\\theta^0$, Lipschitz constant L>0. \n",
    "* For k = 1,2 ... until convergence\n",
    "    * $\\theta^k = prox_{\\lambda ||\\cdot||_1/L} (\\theta^{k-1}-\\frac{1}{L}\\nabla f(\\theta^{k-1}))$\n",
    "* Return last $\\theta^k$"
   ]
  },
  {
   "cell_type": "code",
   "execution_count": 7,
   "metadata": {},
   "outputs": [],
   "source": [
    "def find_smooth(data):\n",
    "    smax = - np.inf\n",
    "    for xi in data:\n",
    "        norm2 = np.dot(xi.T,xi)\n",
    "        if norm2 > smax: smax = norm2\n",
    "    return smax/(4*len(data))"
   ]
  },
  {
   "cell_type": "code",
   "execution_count": 34,
   "metadata": {},
   "outputs": [],
   "source": [
    "def logistic_l1(theta, x, y, lambdar):\n",
    "    ## Logistic gradient\n",
    "    xtheta = np.dot(x, theta)\n",
    "    expo = np.exp(-xtheta*y)\n",
    "    grad = (-1/len(y))*np.dot(x.T, y*expo/(1+expo))\n",
    "    \n",
    "    # Subgradient\n",
    "    subgrad = np.array([np.sign(x) if x != 0 else sign(np.random.randint(0, 2) - 0.5) for x in theta])\n",
    "    return grad + lambdar*subgrad\n",
    "\n",
    "def prox(x,l):\n",
    "    return (np.abs(x) > l)* (x - l*np.sign(x))\n",
    "\n",
    "def grad(ID, x,y,theta,l):\n",
    "    s = -np.dot(x, theta) * y\n",
    "    frac = np.exp(s)/(1+ np.exp(s))\n",
    "    g =  -1/len(y) * np.dot(x.T, y * frac)\n",
    "    if ID: \n",
    "        return g #simple grad for ISTA algo\n",
    "    else: \n",
    "        return g + 2 * l * theta #grad + grad(n2^2)\n",
    "\n",
    "def error(data,theta, labels): \n",
    "    #computes the error by rounding the results\n",
    "    E = np.dot(data, theta)\n",
    "    acc = 0\n",
    "    for x,y in zip(E, labels):\n",
    "        if x > 0 and y == 1: acc += 1 \n",
    "        elif x < 0 and y== -1: acc += 1\n",
    "    # acc # error\n",
    "    return 1 - acc/len(labels)\n",
    "\n",
    "def split3 (l):\n",
    "    #helper function\n",
    "    theta, train_error, test_error = [],[],[]\n",
    "    for r in l:\n",
    "        theta.append(r[0])\n",
    "        train_error.append(r[1]) \n",
    "        test_error.append(r[2])\n",
    "    return theta,train_error, test_error"
   ]
  },
  {
   "cell_type": "code",
   "execution_count": 35,
   "metadata": {},
   "outputs": [],
   "source": [
    "def ISTA_GD(ID, train_x, train_y, test_x, test_y, itheta, L, lambd, max_iteration=500, eta=0.001):\n",
    "    theta = itheta\n",
    "    theta_avg = itheta\n",
    "    for _ in range(max_iteration):\n",
    "        if ID: #ISTA for lasso\n",
    "            grd = grad(1, train_x, train_y, theta,lambd)\n",
    "            theta = prox((theta - 1/L*grd), (lambd/L))\n",
    "        else: # GD for ridge\n",
    "            grd = logistic_l1(theta, train_x, train_y, lambd)\n",
    "            #grd = grad(0, train_x, train_y, theta,lambd)\n",
    "            theta = theta - eta*grd \n",
    "            \n",
    "    err_train = error(train_x, theta, train_y)\n",
    "    err_test = error(test_x, theta, test_y)\n",
    "    \n",
    "    return theta, err_train, err_test\n",
    "    "
   ]
  },
  {
   "cell_type": "markdown",
   "metadata": {},
   "source": [
    "### Results"
   ]
  },
  {
   "cell_type": "code",
   "execution_count": 36,
   "metadata": {},
   "outputs": [
    {
     "name": "stdout",
     "output_type": "stream",
     "text": [
      "Loading ISTA for lasso...\n",
      "Done. Loading GD for ridge...\n",
      "Done\n"
     ]
    }
   ],
   "source": [
    "print(\"Loading ISTA for lasso...\")\n",
    "ll = np.linspace(0,6)\n",
    "#lasso = [ISTA_GD(1, train_data, train_labels, test_data, test_labels, np.ones(784)*1e-4, 2, l) for l in ll]\n",
    "\n",
    "print(\"Done. Loading GD for ridge...\")\n",
    "#lr = np.linspace(0,12)\n",
    "ridge = [ISTA_GD(0, train_data, train_labels, test_data, test_labels, np.ones(784)*1e-4, 0, l) for l in ll]\n",
    "print(\"Done\")"
   ]
  },
  {
   "cell_type": "code",
   "execution_count": 38,
   "metadata": {},
   "outputs": [
    {
     "ename": "IndexError",
     "evalue": "tuple index out of range",
     "output_type": "error",
     "traceback": [
      "\u001b[0;31m---------------------------------------------------------------------------\u001b[0m",
      "\u001b[0;31mIndexError\u001b[0m                                Traceback (most recent call last)",
      "\u001b[0;32m<ipython-input-38-c9ecffaed86a>\u001b[0m in \u001b[0;36m<module>\u001b[0;34m()\u001b[0m\n\u001b[1;32m     12\u001b[0m \u001b[0mplt\u001b[0m\u001b[0;34m.\u001b[0m\u001b[0msubplot\u001b[0m\u001b[0;34m(\u001b[0m\u001b[0;36m1\u001b[0m\u001b[0;34m,\u001b[0m \u001b[0;36m4\u001b[0m\u001b[0;34m,\u001b[0m \u001b[0;36m2\u001b[0m\u001b[0;34m)\u001b[0m\u001b[0;34m\u001b[0m\u001b[0m\n\u001b[1;32m     13\u001b[0m \u001b[0mplt\u001b[0m\u001b[0;34m.\u001b[0m\u001b[0mtitle\u001b[0m\u001b[0;34m(\u001b[0m\u001b[0;34m\"GD algorithm for Ridge\"\u001b[0m\u001b[0;34m)\u001b[0m\u001b[0;34m\u001b[0m\u001b[0m\n\u001b[0;32m---> 14\u001b[0;31m \u001b[0mplt\u001b[0m\u001b[0;34m.\u001b[0m\u001b[0mplot\u001b[0m\u001b[0;34m(\u001b[0m\u001b[0mll\u001b[0m\u001b[0;34m,\u001b[0m \u001b[0msplit4\u001b[0m\u001b[0;34m(\u001b[0m\u001b[0mridge\u001b[0m\u001b[0;34m)\u001b[0m\u001b[0;34m[\u001b[0m\u001b[0;36m2\u001b[0m\u001b[0;34m]\u001b[0m\u001b[0;34m,\u001b[0m \u001b[0mlabel\u001b[0m\u001b[0;34m=\u001b[0m\u001b[0;34m\"train_errors\"\u001b[0m\u001b[0;34m)\u001b[0m\u001b[0;34m\u001b[0m\u001b[0m\n\u001b[0m\u001b[1;32m     15\u001b[0m \u001b[0mplt\u001b[0m\u001b[0;34m.\u001b[0m\u001b[0mplot\u001b[0m\u001b[0;34m(\u001b[0m\u001b[0mll\u001b[0m\u001b[0;34m,\u001b[0m \u001b[0msplit4\u001b[0m\u001b[0;34m(\u001b[0m\u001b[0mridge\u001b[0m\u001b[0;34m)\u001b[0m\u001b[0;34m[\u001b[0m\u001b[0;36m3\u001b[0m\u001b[0;34m]\u001b[0m\u001b[0;34m,\u001b[0m \u001b[0mlabel\u001b[0m\u001b[0;34m=\u001b[0m\u001b[0;34m\"test_errors\"\u001b[0m\u001b[0;34m)\u001b[0m\u001b[0;34m\u001b[0m\u001b[0m\n\u001b[1;32m     16\u001b[0m \u001b[0mplt\u001b[0m\u001b[0;34m.\u001b[0m\u001b[0mxlabel\u001b[0m\u001b[0;34m(\u001b[0m\u001b[0;34m\"lambda\"\u001b[0m\u001b[0;34m)\u001b[0m\u001b[0;34m\u001b[0m\u001b[0m\n",
      "\u001b[0;32m<ipython-input-30-814a5d74f9d3>\u001b[0m in \u001b[0;36msplit4\u001b[0;34m(l)\u001b[0m\n\u001b[1;32m     38\u001b[0m         \u001b[0mthetavg\u001b[0m\u001b[0;34m.\u001b[0m\u001b[0mappend\u001b[0m\u001b[0;34m(\u001b[0m\u001b[0mr\u001b[0m\u001b[0;34m[\u001b[0m\u001b[0;36m1\u001b[0m\u001b[0;34m]\u001b[0m\u001b[0;34m)\u001b[0m\u001b[0;34m\u001b[0m\u001b[0m\n\u001b[1;32m     39\u001b[0m         \u001b[0mtrain_error\u001b[0m\u001b[0;34m.\u001b[0m\u001b[0mappend\u001b[0m\u001b[0;34m(\u001b[0m\u001b[0mr\u001b[0m\u001b[0;34m[\u001b[0m\u001b[0;36m2\u001b[0m\u001b[0;34m]\u001b[0m\u001b[0;34m)\u001b[0m\u001b[0;34m\u001b[0m\u001b[0m\n\u001b[0;32m---> 40\u001b[0;31m         \u001b[0mtest_error\u001b[0m\u001b[0;34m.\u001b[0m\u001b[0mappend\u001b[0m\u001b[0;34m(\u001b[0m\u001b[0mr\u001b[0m\u001b[0;34m[\u001b[0m\u001b[0;36m3\u001b[0m\u001b[0;34m]\u001b[0m\u001b[0;34m)\u001b[0m\u001b[0;34m\u001b[0m\u001b[0m\n\u001b[0m\u001b[1;32m     41\u001b[0m     \u001b[0;32mreturn\u001b[0m \u001b[0mtheta\u001b[0m\u001b[0;34m,\u001b[0m\u001b[0mtrain_error\u001b[0m\u001b[0;34m,\u001b[0m \u001b[0mtest_error\u001b[0m\u001b[0;34m\u001b[0m\u001b[0m\n",
      "\u001b[0;31mIndexError\u001b[0m: tuple index out of range"
     ]
    },
    {
     "data": {
      "image/png": "[encoded data removed]",
      "text/plain": [
       "<matplotlib.figure.Figure at 0x1a21599a20>"
      ]
     },
     "metadata": {},
     "output_type": "display_data"
    }
   ],
   "source": [
    "#plot lasso\n",
    "plt.figure(figsize=(30, 5))\n",
    "#plt.subplot(1, 4, 1)\n",
    "#plt.title(\"ISTA algorithm for lasso\")\n",
    "#plt.plot(ll, split3(lasso)[1], label=\"train_errors\")\n",
    "#plt.plot(ll, split3(lasso)[2], label=\"test_errors\")\n",
    "#plt.xlabel(\"lambda\")\n",
    "#plt.ylabel(\"error\")\n",
    "#plt.legend()\n",
    "\n",
    "#plot ridge\n",
    "plt.subplot(1, 4, 2)\n",
    "plt.title(\"GD algorithm for Ridge\")\n",
    "plt.plot(ll, split4(ridge)[2], label=\"train_errors\")\n",
    "plt.plot(ll, split4(ridge)[3], label=\"test_errors\")\n",
    "plt.xlabel(\"lambda\")\n",
    "plt.ylabel(\"error\")\n",
    "plt.legend()\n",
    "plt.show()\n"
   ]
  },
  {
   "cell_type": "code",
   "execution_count": 20,
   "metadata": {},
   "outputs": [
    {
     "ename": "NameError",
     "evalue": "name 'lr' is not defined",
     "output_type": "error",
     "traceback": [
      "\u001b[0;31m---------------------------------------------------------------------------\u001b[0m",
      "\u001b[0;31mNameError\u001b[0m                                 Traceback (most recent call last)",
      "\u001b[0;32m<ipython-input-20-b91599bb7d5d>\u001b[0m in \u001b[0;36m<module>\u001b[0;34m()\u001b[0m\n\u001b[0;32m----> 1\u001b[0;31m \u001b[0mprint\u001b[0m\u001b[0;34m(\u001b[0m\u001b[0mlr\u001b[0m\u001b[0;34m)\u001b[0m\u001b[0;34m\u001b[0m\u001b[0m\n\u001b[0m\u001b[1;32m      2\u001b[0m \u001b[0;34m\u001b[0m\u001b[0m\n\u001b[1;32m      3\u001b[0m \u001b[0ml_lasso\u001b[0m \u001b[0;34m=\u001b[0m \u001b[0;34m[\u001b[0m\u001b[0;36m0\u001b[0m\u001b[0;34m,\u001b[0m \u001b[0;36m0.02040816\u001b[0m\u001b[0;34m,\u001b[0m \u001b[0;36m0.14285714\u001b[0m\u001b[0;34m,\u001b[0m \u001b[0;36m0.08163265\u001b[0m\u001b[0;34m]\u001b[0m\u001b[0;34m\u001b[0m\u001b[0m\n\u001b[1;32m      4\u001b[0m \u001b[0ml_ridge\u001b[0m \u001b[0;34m=\u001b[0m \u001b[0;34m[\u001b[0m\u001b[0;36m0\u001b[0m\u001b[0;34m,\u001b[0m \u001b[0;36m2.93877551\u001b[0m\u001b[0;34m,\u001b[0m\u001b[0;36m2.20408163\u001b[0m \u001b[0;34m,\u001b[0m\u001b[0;36m9.06122449\u001b[0m\u001b[0;34m]\u001b[0m\u001b[0;34m\u001b[0m\u001b[0m\n\u001b[1;32m      5\u001b[0m \u001b[0;31m#l = 0; L = 2\u001b[0m\u001b[0;34m\u001b[0m\u001b[0;34m\u001b[0m\u001b[0m\n",
      "\u001b[0;31mNameError\u001b[0m: name 'lr' is not defined"
     ]
    }
   ],
   "source": [
    "print(lr)\n",
    "\n",
    "l_lasso = [0, 0.02040816, 0.14285714, 0.08163265] \n",
    "l_ridge = [0, 2.93877551,2.20408163 ,9.06122449]\n",
    "#l = 0; L = 2 \n",
    "#l = 0.14141414141414; L =2\n",
    "# l = 0, 0.12; L = 1\n",
    "# l = 0.12; L= 3"
   ]
  },
  {
   "cell_type": "code",
   "execution_count": null,
   "metadata": {},
   "outputs": [],
   "source": [
    "\n",
    "for i in range(len(ll)):\n",
    "    plt.figure(figsize=(30, 5))\n",
    "    plt.subplot(1, 4, 1)\n",
    "    image, imgavg, trainerr, testerr = split4(ridge)\n",
    "    plt.imshow(image[i].reshape((28, 28)))\n",
    "    plt.title(\"lambda={} , train_err = {}, test_err = {}\".format(ll[i], trainerr[i], testerr[i]))\n",
    "    plt.subplot(1, 4, 2)\n",
    "    plt.imshow(imgavg[i].reshape((28, 28)))\n",
    "    plt.title(\"lambda={} , train_err = {}, test_err = {}\".format(ll[i], trainerr[i], testerr[i]))\n",
    "    plt.colorbar()\n",
    "    plt.show()"
   ]
  },
  {
   "cell_type": "code",
   "execution_count": null,
   "metadata": {},
   "outputs": [],
   "source": []
  },
  {
   "cell_type": "code",
   "execution_count": null,
   "metadata": {},
   "outputs": [],
   "source": [
    "# Best Lambdas\n",
    "def K_fold(n_splits, x, y, ID, lambd):\n",
    "    test_error = []\n",
    "    for i in range(0, n_splits):\n",
    "        d = int(len(x) / n_splits) \n",
    "        tests_x = np.array(x[i*d: (i+1)*d])\n",
    "        tests_y = np.array(y[i*d: (i+1)*d])\n",
    "        trains_x = np.concatenate([x[:i*d], x[(i+1)*d:]])\n",
    "        trains_y = np.concatenate([y[:i*d], y[(i+1)*d:]])\n",
    "        theta, train, test = ISTA_GD(ID, train_x, train_y, test_x, test_y, np.ones(784)*1e-4 , L, \n",
    "                                    lambd, max_iteration=100, eta=0.001)\n",
    "        test_error.append(test)\n",
    "    return np.sum(test_error)/len(test_error)\n",
    "\n",
    "def run(n_splits,a,b, ID):\n",
    "    tab = np.arange(len(train_data))\n",
    "    np.random.shuffle(tab)\n",
    "    dx , dy = train_data[tab], train_labels[tab]\n",
    "    lerr = {}\n",
    "    for l in (np.linspace(a,b)):\n",
    "        lerr[l]= K_fold(n_splits, dx,dy, ID, l)\n",
    "        print(lerr)\n",
    "    plt.plot(lerr)\n",
    "    plt.xlabel(\"k\")\n",
    "    plt.ylabel(\"error\")\n",
    "    plt.title(\"K-fold cross validation for K = {}\".format(n_splits))\n",
    "    print(\"Last error for k = {} is err = {}\".format(b-1, lerr[-1]))\n",
    "    return lerr\n",
    "\n",
    "run()\n",
    "\n"
   ]
  },
  {
   "cell_type": "code",
   "execution_count": 17,
   "metadata": {},
   "outputs": [
    {
     "data": {
      "text/plain": [
       "<matplotlib.colorbar.Colorbar at 0x1a22999c50>"
      ]
     },
     "execution_count": 17,
     "metadata": {},
     "output_type": "execute_result"
    },
    {
     "data": {
      "image/png": "[encoded data removed]",
      "text/plain": [
       "<matplotlib.figure.Figure at 0x1a21dd5400>"
      ]
     },
     "metadata": {},
     "output_type": "display_data"
    }
   ],
   "source": [
    "# all prints for thetas to check\n",
    "def printing_thetas(thetal, lambdas):\n",
    "    for i in range(len(thetal)):\n",
    "        plt.figure(figsize=(30, 5))\n",
    "        plt.subplot(1, 4, 1)\n",
    "        plt.imshow(thetal[i].reshape((28, 28)))\n",
    "        plt.title(\"Estimator for lambda {}\".format(lambdas[i]))\n",
    "        plt.colorbar()\n",
    "\n",
    "# lasso\n",
    "printing_thetas(split3(lasso), lambdas)\n",
    "# ridge ista\n",
    "printing_thetas(split3(ridge), lambdas)\n",
    "# ridge gd\n",
    "printing_thetas(split3(ridgeGD), lambdas)"
   ]
  },
  {
   "cell_type": "code",
   "execution_count": 50,
   "metadata": {},
   "outputs": [],
   "source": [
    "#print only the best 4 lambdas estimator -> lambda 0, the worst lambda, 2 best lambdas"
   ]
  },
  {
   "cell_type": "code",
   "execution_count": null,
   "metadata": {},
   "outputs": [],
   "source": [
    "# table of errors/ accuracy for the lambdas chosen\n"
   ]
  },
  {
   "cell_type": "markdown",
   "metadata": {},
   "source": [
    "### PCA and K means"
   ]
  },
  {
   "cell_type": "code",
   "execution_count": 3,
   "metadata": {},
   "outputs": [],
   "source": [
    "def load_data2():\n",
    "    print(\"Loading images...\")\n",
    "    df_train = pd.DataFrame()\n",
    "    data, labels = [], []\n",
    "    imgpath = sorted(list(paths.list_images(\"./data2\")))\n",
    "    random.seed(time.time())\n",
    "    random.shuffle(imgpath)\n",
    "    for ipath in imgpath:\n",
    "        #print(ipath)\n",
    "        image = cv2.imread(ipath,0)\n",
    "        image = image.astype('float32') / 255\n",
    "        tmp2 = ipath.split(os.path.sep)[-2]\n",
    "        #perhaps normalize the set X\n",
    "        data.append(image.flatten())\n",
    "        if tmp2 == \"A\": \n",
    "            labels.append(0)\n",
    "        elif tmp2 == \"B\":\n",
    "            labels.append(1)\n",
    "        else:\n",
    "            labels.append(2)\n",
    "    print(\"Loading dataset done.\")   \n",
    "    return np.array(data),  np.array(labels)"
   ]
  },
  {
   "cell_type": "code",
   "execution_count": 4,
   "metadata": {},
   "outputs": [
    {
     "name": "stdout",
     "output_type": "stream",
     "text": [
      "Loading images...\n",
      "Loading dataset done.\n",
      "Total images:  (1650, 784)\n"
     ]
    }
   ],
   "source": [
    "data, labels = load_data2()\n",
    "print(\"Total images: \", data.shape)"
   ]
  },
  {
   "cell_type": "code",
   "execution_count": 6,
   "metadata": {},
   "outputs": [
    {
     "name": "stdout",
     "output_type": "stream",
     "text": [
      "[]\n",
      "[]\n"
     ]
    }
   ],
   "source": [
    "def euclid_dist(ID,x,y):\n",
    "    if ID:\n",
    "        return (np.sum((x - y)**2, axis = 1))**0.5\n",
    "    else: \n",
    "        return (np.sum((x - y)**2))**0.5\n",
    "\n",
    "#print(euclid_dist(1,A,[[1,2],[3,4]]))\n",
    "l = np.array([[] for _ in range(2)])\n",
    "print(l)\n",
    "np.append(l,[3,2,1])\n",
    "print(l)\n"
   ]
  },
  {
   "cell_type": "code",
   "execution_count": null,
   "metadata": {},
   "outputs": [],
   "source": [
    "def pca(data, n_components = 2):\n",
    "    '''\n",
    "    M = np.mean(data, axis=0)\n",
    "    #C = (data.T - M)\n",
    "    V = (data - M).T @ (data - M)\n",
    "    values, vectors = np.linalg.eig(V)\n",
    "    W = np.array((vectors[np.argsort(values)])[-2:])\n",
    "    print('Shape of W: ', W.shape)\n",
    "    print('Shape of data: ', data.shape)\n",
    "    return W.dot(data.T)\n",
    "    '''\n",
    "    n,m = data.shape\n",
    "    print('Data shape: ', data.shape)\n",
    "    mean = data.mean(axis=0)\n",
    "    print(mean.shape)\n",
    "    data = data - mean\n",
    "    #m = np.mean(data, axis=1)\n",
    "    #print(m.shape)\n",
    "    #data = data - np.reshape(m, (np.shape(m)[0], 1))\n",
    "    CovarianceMatrix = (data.T @ data)/(n-1)\n",
    "    eigenvalues, eigenvectors = np.linalg.eig(CovarianceMatrix)\n",
    "    descending_order = np.flip(np.argsort(eigenvalues))\n",
    "    eigenvalues = eigenvalues[descending_order]\n",
    "    eigenvectors = eigenvectors[:, descending_order]\n",
    "    eigenvalues = eigenvalues[0:n_components]\n",
    "    eigenvectors = eigenvectors[:, 0:n_components]\n",
    "    return data @ eigenvectors\n",
    "\n",
    "def euclid_dist(x,y):\n",
    "    return (np.sum((x - y)**2, axis=1))**0.5\n",
    "\n",
    "# 10 ITERATIONS DONT FORGET TO DO!!!\n",
    "def k_means(data, labels, k, max_iter = 500):\n",
    "    centroids = data[:k]\n",
    "    for _ in range(max_iter):\n",
    "        clusters = [[] for _ in range(k)]\n",
    "        labels_clusters = [[] for _ in range(k)]\n",
    "        for value,label in zip(data,labels):\n",
    "            c = np.argmin(euclid_dist(value, centroids))\n",
    "            clusters[c].append(value)\n",
    "            labels_clusters[c].append(label)\n",
    "        tmp = []\n",
    "        for cl in clusters:\n",
    "            tmp.append((sum(cl)/len(cl)))\n",
    "        centroids = tmp\n",
    "    return centroids, clusters, labels_clusters"
   ]
  },
  {
   "cell_type": "code",
   "execution_count": null,
   "metadata": {},
   "outputs": [],
   "source": [
    "#shuffle data\n",
    "tab = np.arange(len(data))\n",
    "np.random.shuffle(tab)\n",
    "data , labels = data[tab], labels[tab]\n",
    "\n",
    "#run kmeans\n",
    "centroids, clusters, labels_clusters = k_means(data, labels, 3)"
   ]
  },
  {
   "cell_type": "code",
   "execution_count": null,
   "metadata": {},
   "outputs": [],
   "source": [
    "#run pca on clusters\n",
    "plt.figure(figsize=(10, 5))\n",
    "for c in clusters:\n",
    "    p = pca(np.array(c))\n",
    "    plt.scatter(p[0,:], p[1,:])\n",
    "p = pca(np.array(centroids))    \n",
    "plt.scatter(p[0,:], p [1,:], color = 'black')\n",
    "plt.show()\n"
   ]
  },
  {
   "cell_type": "code",
   "execution_count": null,
   "metadata": {},
   "outputs": [],
   "source": [
    "pca2 = PCA(n_components=2)\n",
    "p1 = pca2.fit_transform(clusters[0])\n",
    "p2 = pca2.fit_transform(clusters[1])\n",
    "p3 = pca2.fit_transform(clusters[2])\n",
    "plt.figure(figsize=(10, 5))\n",
    "plt.scatter(p1[:,0], p1[:,1])\n",
    "plt.scatter(p2[:,0], p2[:,1])\n",
    "plt.scatter(p3[:,0], p3[:,1])\n",
    "    \n",
    "#p = pca(np.array(centroids))    \n",
    "#plt.scatter(p[:,0], p [:,1], color = 'black')\n",
    "plt.show()"
   ]
  },
  {
   "cell_type": "code",
   "execution_count": null,
   "metadata": {},
   "outputs": [],
   "source": [
    "#confusion matrix\n",
    "\n",
    "predicted_labels = [2]*len(clusters[0]) + [1]*len(clusters[1]) + [0]*len(clusters[2])\n",
    "\n",
    "real_labels = []\n",
    "for i in range(3):\n",
    "    real_labels += labels_clusters[i]\n",
    "\n",
    "cm = confusion_matrix(real_labels, predicted_labels)\n",
    "\n",
    "import seaborn as sns\n",
    "ax= plt.subplot()\n",
    "sns.heatmap(cm, annot=True, ax = ax); #annot=True to annotate cells\n",
    "ax.set_xlabel('Predicted labels');ax.set_ylabel('True labels') \n",
    "ax.set_title('Confusion Matrix on data') \n",
    "ax.xaxis.set_ticklabels(['B', 'C', 'A']) \n",
    "ax.yaxis.set_ticklabels(['B', 'C','A'])\n",
    "plt.show()"
   ]
  },
  {
   "cell_type": "code",
   "execution_count": null,
   "metadata": {},
   "outputs": [],
   "source": []
  }
 ],
 "metadata": {
  "kernelspec": {
   "display_name": "Python 3",
   "language": "python",
   "name": "python3"
  },
  "language_info": {
   "codemirror_mode": {
    "name": "ipython",
    "version": 3
   },
   "file_extension": ".py",
   "mimetype": "text/x-python",
   "name": "python",
   "nbconvert_exporter": "python",
   "pygments_lexer": "ipython3",
   "version": "3.6.4"
  }
 },
 "nbformat": 4,
 "nbformat_minor": 2
}
